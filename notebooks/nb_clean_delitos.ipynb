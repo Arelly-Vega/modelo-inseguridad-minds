{
 "cells": [
  {
   "cell_type": "markdown",
   "metadata": {},
   "source": [
    "# Importanción"
   ]
  },
  {
   "cell_type": "code",
   "execution_count": 1,
   "metadata": {},
   "outputs": [],
   "source": [
    "import numpy as np\n",
    "import pandas as pd"
   ]
  },
  {
   "cell_type": "markdown",
   "metadata": {},
   "source": [
    "# Data"
   ]
  },
  {
   "cell_type": "code",
   "execution_count": 2,
   "metadata": {},
   "outputs": [
    {
     "name": "stdout",
     "output_type": "stream",
     "text": [
      "2019\n",
      "(9363, 16)\n",
      "2020\n",
      "(8583, 16)\n",
      "2021\n",
      "(12314, 16)\n",
      "2022\n",
      "(9152, 16)\n",
      "2023\n",
      "(9032, 16)\n"
     ]
    }
   ],
   "source": [
    "print(\"2019\")\n",
    "dd19 = pd.read_csv(\"..\\Delitos_2019-2023\\delitos denunciados 2019.csv\")\n",
    "print(dd19.shape)\n",
    "\n",
    "print(\"2020\")\n",
    "dd20 = pd.read_csv(\"..\\Delitos_2019-2023\\delitos denunciados 2020.csv\")\n",
    "print(dd20.shape)\n",
    "\n",
    "print(\"2021\")\n",
    "dd21 = pd.read_csv(\"..\\Delitos_2019-2023\\delitos denunciados 2021.csv\")\n",
    "print(dd21.shape)\n",
    "\n",
    "print(\"2022\")\n",
    "dd22 = pd.read_csv(\"..\\Delitos_2019-2023\\delitos denunciados 2022.csv\")\n",
    "print(dd22.shape)\n",
    "\n",
    "print(\"2023\")\n",
    "dd23 = pd.read_csv(\"..\\Delitos_2019-2023\\delitos denunciados 2023.csv\")\n",
    "print(dd23.shape)"
   ]
  },
  {
   "cell_type": "code",
   "execution_count": 3,
   "metadata": {},
   "outputs": [],
   "source": [
    "columns = [col.lower() for col in dd19.columns.to_list()]\n",
    "\n",
    "dd19.columns = columns\n",
    "dd20.columns = columns\n",
    "dd21.columns = columns\n",
    "dd22.columns = columns\n",
    "dd23.columns = columns"
   ]
  },
  {
   "cell_type": "code",
   "execution_count": 4,
   "metadata": {},
   "outputs": [
    {
     "data": {
      "application/vnd.microsoft.datawrangler.viewer.v0+json": {
       "columns": [
        {
         "name": "index",
         "rawType": "int64",
         "type": "integer"
        },
        {
         "name": "periodo_denuncia",
         "rawType": "object",
         "type": "string"
        },
        {
         "name": "anio_denuncia",
         "rawType": "int64",
         "type": "integer"
        },
        {
         "name": "fecha_descarga",
         "rawType": "object",
         "type": "string"
        },
        {
         "name": "distrito_fiscal",
         "rawType": "object",
         "type": "string"
        },
        {
         "name": "especialidad",
         "rawType": "object",
         "type": "string"
        },
        {
         "name": "tipo_caso",
         "rawType": "object",
         "type": "string"
        },
        {
         "name": "generico",
         "rawType": "object",
         "type": "string"
        },
        {
         "name": "subgenerico",
         "rawType": "object",
         "type": "string"
        },
        {
         "name": "articulo",
         "rawType": "object",
         "type": "string"
        },
        {
         "name": "des_articulo",
         "rawType": "object",
         "type": "string"
        },
        {
         "name": "cantidad",
         "rawType": "int64",
         "type": "integer"
        },
        {
         "name": "ubigeo_pjfs",
         "rawType": "int64",
         "type": "integer"
        },
        {
         "name": "dpto_pjfs",
         "rawType": "object",
         "type": "string"
        },
        {
         "name": "prov_pjfs",
         "rawType": "object",
         "type": "string"
        },
        {
         "name": "dist_pjfs",
         "rawType": "object",
         "type": "string"
        },
        {
         "name": "fecha_corte",
         "rawType": "object",
         "type": "string"
        }
       ],
       "conversionMethod": "pd.DataFrame",
       "ref": "710167df-ba86-481b-b416-5792ac82f05d",
       "rows": [
        [
         "0",
         "ENERO - DICIEMBRE",
         "2019",
         "13/01/2020",
         "AMAZONAS",
         "PENAL",
         "DENUNCIA",
         "CONTRA EL HONOR",
         "CONTRA EL HONOR (Sin especificar delito subgenérico)",
         "S/Art",
         "CONTRA EL HONOR",
         "4",
         "10101",
         "AMAZONAS",
         "CHACHAPOYAS",
         "CHACHAPOYAS",
         "14/06/2023"
        ],
        [
         "1",
         "ENERO - DICIEMBRE",
         "2019",
         "13/01/2020",
         "AMAZONAS",
         "PENAL",
         "DENUNCIA",
         "CONTRA EL HONOR",
         "INJURIA,CALUMNIA Y DIFAMACION",
         "130",
         "Injuria",
         "1",
         "10101",
         "AMAZONAS",
         "CHACHAPOYAS",
         "CHACHAPOYAS",
         "14/06/2023"
        ],
        [
         "2",
         "ENERO - DICIEMBRE",
         "2019",
         "13/01/2020",
         "AMAZONAS",
         "PENAL",
         "DENUNCIA",
         "CONTRA EL HONOR",
         "INJURIA,CALUMNIA Y DIFAMACION",
         "131",
         "Calumnia",
         "2",
         "10101",
         "AMAZONAS",
         "CHACHAPOYAS",
         "CHACHAPOYAS",
         "14/06/2023"
        ],
        [
         "3",
         "ENERO - DICIEMBRE",
         "2019",
         "13/01/2020",
         "AMAZONAS",
         "PENAL",
         "DENUNCIA",
         "CONTRA EL HONOR",
         "INJURIA,CALUMNIA Y DIFAMACION",
         "132",
         "Difamación",
         "14",
         "10101",
         "AMAZONAS",
         "CHACHAPOYAS",
         "CHACHAPOYAS",
         "14/06/2023"
        ],
        [
         "4",
         "ENERO - DICIEMBRE",
         "2019",
         "13/01/2020",
         "AMAZONAS",
         "PENAL",
         "DENUNCIA",
         "CONTRA EL HONOR",
         "INJURIA,CALUMNIA Y DIFAMACION",
         "S/Art",
         "INJURIA, CALUMNIA Y DIFAMACIÓN",
         "1",
         "10101",
         "AMAZONAS",
         "CHACHAPOYAS",
         "CHACHAPOYAS",
         "14/06/2023"
        ],
        [
         "5",
         "ENERO - DICIEMBRE",
         "2019",
         "13/01/2020",
         "AMAZONAS",
         "PENAL",
         "DENUNCIA",
         "CONTRA EL ORDEN ECONOMICO",
         "ACAPARAMIENTO, ESPECULACION, ADULTERACION",
         "234",
         "Especulación",
         "2",
         "10101",
         "AMAZONAS",
         "CHACHAPOYAS",
         "CHACHAPOYAS",
         "14/06/2023"
        ],
        [
         "6",
         "ENERO - DICIEMBRE",
         "2019",
         "13/01/2020",
         "AMAZONAS",
         "PENAL",
         "DENUNCIA",
         "CONTRA EL ORDEN FINANCIERO Y MONETARIO",
         "CONTRA EL ORDEN FINANCIERO Y MONETARIO (Sin especificar delito subgenérico)",
         "S/Art",
         "CONTRA EL ORDEN FINANCIERO Y MONETARIO",
         "2",
         "10101",
         "AMAZONAS",
         "CHACHAPOYAS",
         "CHACHAPOYAS",
         "14/06/2023"
        ],
        [
         "7",
         "ENERO - DICIEMBRE",
         "2019",
         "13/01/2020",
         "AMAZONAS",
         "PENAL",
         "DENUNCIA",
         "CONTRA EL ORDEN FINANCIERO Y MONETARIO",
         "DELITOS MONETARIOS",
         "254",
         "Tráfico de moneda falsa",
         "11",
         "10101",
         "AMAZONAS",
         "CHACHAPOYAS",
         "CHACHAPOYAS",
         "14/06/2023"
        ],
        [
         "8",
         "ENERO - DICIEMBRE",
         "2019",
         "13/01/2020",
         "AMAZONAS",
         "PENAL",
         "DENUNCIA",
         "CONTRA EL ORDEN FINANCIERO Y MONETARIO",
         "DELITOS MONETARIOS",
         "S/Art",
         "DELITOS MONETARIOS",
         "2",
         "10101",
         "AMAZONAS",
         "CHACHAPOYAS",
         "CHACHAPOYAS",
         "14/06/2023"
        ],
        [
         "9",
         "ENERO - DICIEMBRE",
         "2019",
         "13/01/2020",
         "AMAZONAS",
         "PENAL",
         "DENUNCIA",
         "CONTRA EL PATRIMONIO",
         "ABIGEATO",
         "189-A",
         "Hurto de ganado",
         "55",
         "10101",
         "AMAZONAS",
         "CHACHAPOYAS",
         "CHACHAPOYAS",
         "14/06/2023"
        ],
        [
         "10",
         "ENERO - DICIEMBRE",
         "2019",
         "13/01/2020",
         "AMAZONAS",
         "PENAL",
         "DENUNCIA",
         "CONTRA EL PATRIMONIO",
         "ABIGEATO",
         "189-B",
         "Hurto de uso de ganado",
         "1",
         "10101",
         "AMAZONAS",
         "CHACHAPOYAS",
         "CHACHAPOYAS",
         "14/06/2023"
        ],
        [
         "11",
         "ENERO - DICIEMBRE",
         "2019",
         "13/01/2020",
         "AMAZONAS",
         "PENAL",
         "DENUNCIA",
         "CONTRA EL PATRIMONIO",
         "ABIGEATO",
         "189-C",
         "Robo de ganado ",
         "1",
         "10101",
         "AMAZONAS",
         "CHACHAPOYAS",
         "CHACHAPOYAS",
         "14/06/2023"
        ],
        [
         "12",
         "ENERO - DICIEMBRE",
         "2019",
         "13/01/2020",
         "AMAZONAS",
         "PENAL",
         "DENUNCIA",
         "CONTRA EL PATRIMONIO",
         "ABIGEATO",
         "S/Art",
         "ABIGEATO",
         "15",
         "10101",
         "AMAZONAS",
         "CHACHAPOYAS",
         "CHACHAPOYAS",
         "14/06/2023"
        ],
        [
         "13",
         "ENERO - DICIEMBRE",
         "2019",
         "13/01/2020",
         "AMAZONAS",
         "PENAL",
         "DENUNCIA",
         "CONTRA EL PATRIMONIO",
         "APROPIACION ILICITA",
         "190",
         "Apropiación ilícita común",
         "44",
         "10101",
         "AMAZONAS",
         "CHACHAPOYAS",
         "CHACHAPOYAS",
         "14/06/2023"
        ],
        [
         "14",
         "ENERO - DICIEMBRE",
         "2019",
         "13/01/2020",
         "AMAZONAS",
         "PENAL",
         "DENUNCIA",
         "CONTRA EL PATRIMONIO",
         "APROPIACION ILICITA",
         "191",
         "Sustracción de bien propio",
         "1",
         "10101",
         "AMAZONAS",
         "CHACHAPOYAS",
         "CHACHAPOYAS",
         "14/06/2023"
        ],
        [
         "15",
         "ENERO - DICIEMBRE",
         "2019",
         "13/01/2020",
         "AMAZONAS",
         "PENAL",
         "DENUNCIA",
         "CONTRA EL PATRIMONIO",
         "APROPIACION ILICITA",
         "192",
         "Apropiación irregular",
         "4",
         "10101",
         "AMAZONAS",
         "CHACHAPOYAS",
         "CHACHAPOYAS",
         "14/06/2023"
        ],
        [
         "16",
         "ENERO - DICIEMBRE",
         "2019",
         "13/01/2020",
         "AMAZONAS",
         "PENAL",
         "DENUNCIA",
         "CONTRA EL PATRIMONIO",
         "APROPIACION ILICITA",
         "193",
         "Apropiación de prenda",
         "1",
         "10101",
         "AMAZONAS",
         "CHACHAPOYAS",
         "CHACHAPOYAS",
         "14/06/2023"
        ],
        [
         "17",
         "ENERO - DICIEMBRE",
         "2019",
         "13/01/2020",
         "AMAZONAS",
         "PENAL",
         "DENUNCIA",
         "CONTRA EL PATRIMONIO",
         "APROPIACION ILICITA",
         "S/Art",
         "APROPIACIÓN ILÍCITA",
         "46",
         "10101",
         "AMAZONAS",
         "CHACHAPOYAS",
         "CHACHAPOYAS",
         "14/06/2023"
        ],
        [
         "18",
         "ENERO - DICIEMBRE",
         "2019",
         "13/01/2020",
         "AMAZONAS",
         "PENAL",
         "DENUNCIA",
         "CONTRA EL PATRIMONIO",
         "CONTRA EL PATRIMONIO (Sin especificar delito subgenérico)",
         "S/Art",
         "CONTRA EL PATRIMONIO",
         "92",
         "10101",
         "AMAZONAS",
         "CHACHAPOYAS",
         "CHACHAPOYAS",
         "14/06/2023"
        ],
        [
         "19",
         "ENERO - DICIEMBRE",
         "2019",
         "13/01/2020",
         "AMAZONAS",
         "PENAL",
         "DENUNCIA",
         "CONTRA EL PATRIMONIO",
         "DAÑOS",
         "205",
         "Daño simple",
         "121",
         "10101",
         "AMAZONAS",
         "CHACHAPOYAS",
         "CHACHAPOYAS",
         "14/06/2023"
        ],
        [
         "20",
         "ENERO - DICIEMBRE",
         "2019",
         "13/01/2020",
         "AMAZONAS",
         "PENAL",
         "DENUNCIA",
         "CONTRA EL PATRIMONIO",
         "DAÑOS",
         "206",
         "Formas agravadas",
         "37",
         "10101",
         "AMAZONAS",
         "CHACHAPOYAS",
         "CHACHAPOYAS",
         "14/06/2023"
        ],
        [
         "21",
         "ENERO - DICIEMBRE",
         "2019",
         "13/01/2020",
         "AMAZONAS",
         "PENAL",
         "DENUNCIA",
         "CONTRA EL PATRIMONIO",
         "DAÑOS",
         "206-A",
         "Abandono y actos de crueldad contra animales domésticos y silvestres",
         "2",
         "10101",
         "AMAZONAS",
         "CHACHAPOYAS",
         "CHACHAPOYAS",
         "14/06/2023"
        ],
        [
         "22",
         "ENERO - DICIEMBRE",
         "2019",
         "13/01/2020",
         "AMAZONAS",
         "PENAL",
         "DENUNCIA",
         "CONTRA EL PATRIMONIO",
         "DAÑOS",
         "S/Art",
         "DAÑOS",
         "272",
         "10101",
         "AMAZONAS",
         "CHACHAPOYAS",
         "CHACHAPOYAS",
         "14/06/2023"
        ],
        [
         "23",
         "ENERO - DICIEMBRE",
         "2019",
         "13/01/2020",
         "AMAZONAS",
         "PENAL",
         "DENUNCIA",
         "CONTRA EL PATRIMONIO",
         "ESTAFA Y OTRAS DEFRAUDACIONES",
         "196",
         "Estafa",
         "105",
         "10101",
         "AMAZONAS",
         "CHACHAPOYAS",
         "CHACHAPOYAS",
         "14/06/2023"
        ],
        [
         "24",
         "ENERO - DICIEMBRE",
         "2019",
         "13/01/2020",
         "AMAZONAS",
         "PENAL",
         "DENUNCIA",
         "CONTRA EL PATRIMONIO",
         "ESTAFA Y OTRAS DEFRAUDACIONES",
         "197",
         "Casos de defraudación",
         "7",
         "10101",
         "AMAZONAS",
         "CHACHAPOYAS",
         "CHACHAPOYAS",
         "14/06/2023"
        ],
        [
         "25",
         "ENERO - DICIEMBRE",
         "2019",
         "13/01/2020",
         "AMAZONAS",
         "PENAL",
         "DENUNCIA",
         "CONTRA EL PATRIMONIO",
         "ESTAFA Y OTRAS DEFRAUDACIONES",
         "196-A",
         "Estafa agravada",
         "4",
         "10101",
         "AMAZONAS",
         "CHACHAPOYAS",
         "CHACHAPOYAS",
         "14/06/2023"
        ],
        [
         "26",
         "ENERO - DICIEMBRE",
         "2019",
         "13/01/2020",
         "AMAZONAS",
         "PENAL",
         "DENUNCIA",
         "CONTRA EL PATRIMONIO",
         "ESTAFA Y OTRAS DEFRAUDACIONES",
         "S/Art",
         "ESTAFA Y OTRAS DEFRAUDACIONES",
         "5",
         "10101",
         "AMAZONAS",
         "CHACHAPOYAS",
         "CHACHAPOYAS",
         "14/06/2023"
        ],
        [
         "27",
         "ENERO - DICIEMBRE",
         "2019",
         "13/01/2020",
         "AMAZONAS",
         "PENAL",
         "DENUNCIA",
         "CONTRA EL PATRIMONIO",
         "EXTORSION",
         "200",
         "Extorsión.",
         "13",
         "10101",
         "AMAZONAS",
         "CHACHAPOYAS",
         "CHACHAPOYAS",
         "14/06/2023"
        ],
        [
         "28",
         "ENERO - DICIEMBRE",
         "2019",
         "13/01/2020",
         "AMAZONAS",
         "PENAL",
         "DENUNCIA",
         "CONTRA EL PATRIMONIO",
         "EXTORSION",
         "201",
         "Chantaje",
         "1",
         "10101",
         "AMAZONAS",
         "CHACHAPOYAS",
         "CHACHAPOYAS",
         "14/06/2023"
        ],
        [
         "29",
         "ENERO - DICIEMBRE",
         "2019",
         "13/01/2020",
         "AMAZONAS",
         "PENAL",
         "DENUNCIA",
         "CONTRA EL PATRIMONIO",
         "EXTORSION",
         "S/Art",
         "EXTORSIÓN",
         "1",
         "10101",
         "AMAZONAS",
         "CHACHAPOYAS",
         "CHACHAPOYAS",
         "14/06/2023"
        ],
        [
         "30",
         "ENERO - DICIEMBRE",
         "2019",
         "13/01/2020",
         "AMAZONAS",
         "PENAL",
         "DENUNCIA",
         "CONTRA EL PATRIMONIO",
         "HURTO",
         "185",
         "Hurto simple",
         "209",
         "10101",
         "AMAZONAS",
         "CHACHAPOYAS",
         "CHACHAPOYAS",
         "14/06/2023"
        ],
        [
         "31",
         "ENERO - DICIEMBRE",
         "2019",
         "13/01/2020",
         "AMAZONAS",
         "PENAL",
         "DENUNCIA",
         "CONTRA EL PATRIMONIO",
         "HURTO",
         "186",
         "Hurto agravado",
         "456",
         "10101",
         "AMAZONAS",
         "CHACHAPOYAS",
         "CHACHAPOYAS",
         "14/06/2023"
        ],
        [
         "32",
         "ENERO - DICIEMBRE",
         "2019",
         "13/01/2020",
         "AMAZONAS",
         "PENAL",
         "DENUNCIA",
         "CONTRA EL PATRIMONIO",
         "HURTO",
         "S/Art",
         "HURTO",
         "671",
         "10101",
         "AMAZONAS",
         "CHACHAPOYAS",
         "CHACHAPOYAS",
         "14/06/2023"
        ],
        [
         "33",
         "ENERO - DICIEMBRE",
         "2019",
         "13/01/2020",
         "AMAZONAS",
         "PENAL",
         "DENUNCIA",
         "CONTRA EL PATRIMONIO",
         "RECEPTACION",
         "194",
         "Receptación.",
         "33",
         "10101",
         "AMAZONAS",
         "CHACHAPOYAS",
         "CHACHAPOYAS",
         "14/06/2023"
        ],
        [
         "34",
         "ENERO - DICIEMBRE",
         "2019",
         "13/01/2020",
         "AMAZONAS",
         "PENAL",
         "DENUNCIA",
         "CONTRA EL PATRIMONIO",
         "RECEPTACION",
         "195",
         "Formas agravadas",
         "4",
         "10101",
         "AMAZONAS",
         "CHACHAPOYAS",
         "CHACHAPOYAS",
         "14/06/2023"
        ],
        [
         "35",
         "ENERO - DICIEMBRE",
         "2019",
         "13/01/2020",
         "AMAZONAS",
         "PENAL",
         "DENUNCIA",
         "CONTRA EL PATRIMONIO",
         "RECEPTACION",
         "S/Art",
         "RECEPTACIÓN",
         "15",
         "10101",
         "AMAZONAS",
         "CHACHAPOYAS",
         "CHACHAPOYAS",
         "14/06/2023"
        ],
        [
         "36",
         "ENERO - DICIEMBRE",
         "2019",
         "13/01/2020",
         "AMAZONAS",
         "PENAL",
         "DENUNCIA",
         "CONTRA EL PATRIMONIO",
         "ROBO",
         "188",
         "Robo.",
         "20",
         "10101",
         "AMAZONAS",
         "CHACHAPOYAS",
         "CHACHAPOYAS",
         "14/06/2023"
        ],
        [
         "37",
         "ENERO - DICIEMBRE",
         "2019",
         "13/01/2020",
         "AMAZONAS",
         "PENAL",
         "DENUNCIA",
         "CONTRA EL PATRIMONIO",
         "ROBO",
         "189",
         "Robo agravado",
         "119",
         "10101",
         "AMAZONAS",
         "CHACHAPOYAS",
         "CHACHAPOYAS",
         "14/06/2023"
        ],
        [
         "38",
         "ENERO - DICIEMBRE",
         "2019",
         "13/01/2020",
         "AMAZONAS",
         "PENAL",
         "DENUNCIA",
         "CONTRA EL PATRIMONIO",
         "ROBO",
         "S/Art",
         "ROBO",
         "44",
         "10101",
         "AMAZONAS",
         "CHACHAPOYAS",
         "CHACHAPOYAS",
         "14/06/2023"
        ],
        [
         "39",
         "ENERO - DICIEMBRE",
         "2019",
         "13/01/2020",
         "AMAZONAS",
         "PENAL",
         "DENUNCIA",
         "CONTRA EL PATRIMONIO",
         "USURPACION",
         "202",
         "Usurpación.",
         "99",
         "10101",
         "AMAZONAS",
         "CHACHAPOYAS",
         "CHACHAPOYAS",
         "14/06/2023"
        ],
        [
         "40",
         "ENERO - DICIEMBRE",
         "2019",
         "13/01/2020",
         "AMAZONAS",
         "PENAL",
         "DENUNCIA",
         "CONTRA EL PATRIMONIO",
         "USURPACION",
         "203",
         "Desvío ilegal del curso de las aguas",
         "2",
         "10101",
         "AMAZONAS",
         "CHACHAPOYAS",
         "CHACHAPOYAS",
         "14/06/2023"
        ],
        [
         "41",
         "ENERO - DICIEMBRE",
         "2019",
         "13/01/2020",
         "AMAZONAS",
         "PENAL",
         "DENUNCIA",
         "CONTRA EL PATRIMONIO",
         "USURPACION",
         "204",
         "Formas agravadas de usurpación",
         "26",
         "10101",
         "AMAZONAS",
         "CHACHAPOYAS",
         "CHACHAPOYAS",
         "14/06/2023"
        ],
        [
         "42",
         "ENERO - DICIEMBRE",
         "2019",
         "13/01/2020",
         "AMAZONAS",
         "PENAL",
         "DENUNCIA",
         "CONTRA EL PATRIMONIO",
         "USURPACION",
         "S/Art",
         "USURPACIÓN",
         "130",
         "10101",
         "AMAZONAS",
         "CHACHAPOYAS",
         "CHACHAPOYAS",
         "14/06/2023"
        ],
        [
         "43",
         "ENERO - DICIEMBRE",
         "2019",
         "13/01/2020",
         "AMAZONAS",
         "PENAL",
         "DENUNCIA",
         "CONTRA EL PATRIMONIO CULTURAL",
         "CONTRA LOS BIENES CULTURALES",
         "226",
         "Atentados contra monumentos arqueológicos",
         "1",
         "10101",
         "AMAZONAS",
         "CHACHAPOYAS",
         "CHACHAPOYAS",
         "14/06/2023"
        ],
        [
         "44",
         "ENERO - DICIEMBRE",
         "2019",
         "13/01/2020",
         "AMAZONAS",
         "PENAL",
         "DENUNCIA",
         "CONTRA LA ADMINISTRACION PUBLICA",
         "DELITOS COMETIDOS POR FUNCIONARIOS PUBLICOS",
         "376",
         "Abuso de autoridad",
         "73",
         "10101",
         "AMAZONAS",
         "CHACHAPOYAS",
         "CHACHAPOYAS",
         "14/06/2023"
        ],
        [
         "45",
         "ENERO - DICIEMBRE",
         "2019",
         "13/01/2020",
         "AMAZONAS",
         "PENAL",
         "DENUNCIA",
         "CONTRA LA ADMINISTRACION PUBLICA",
         "DELITOS COMETIDOS POR FUNCIONARIOS PUBLICOS",
         "377",
         "Omisión, rehusamiento o demora de actos funcionales (abuso de autoridad)",
         "65",
         "10101",
         "AMAZONAS",
         "CHACHAPOYAS",
         "CHACHAPOYAS",
         "14/06/2023"
        ],
        [
         "46",
         "ENERO - DICIEMBRE",
         "2019",
         "13/01/2020",
         "AMAZONAS",
         "PENAL",
         "DENUNCIA",
         "CONTRA LA ADMINISTRACION PUBLICA",
         "DELITOS COMETIDOS POR FUNCIONARIOS PUBLICOS",
         "379",
         "Requerimiento indebido de la fuerza pública (abuso de autoridad)",
         "1",
         "10101",
         "AMAZONAS",
         "CHACHAPOYAS",
         "CHACHAPOYAS",
         "14/06/2023"
        ],
        [
         "47",
         "ENERO - DICIEMBRE",
         "2019",
         "13/01/2020",
         "AMAZONAS",
         "PENAL",
         "DENUNCIA",
         "CONTRA LA ADMINISTRACION PUBLICA",
         "DELITOS COMETIDOS POR FUNCIONARIOS PUBLICOS",
         "381",
         "Nombramiento o aceptación ilegal (abuso de autoridad)",
         "7",
         "10101",
         "AMAZONAS",
         "CHACHAPOYAS",
         "CHACHAPOYAS",
         "14/06/2023"
        ],
        [
         "48",
         "ENERO - DICIEMBRE",
         "2019",
         "13/01/2020",
         "AMAZONAS",
         "PENAL",
         "DENUNCIA",
         "CONTRA LA ADMINISTRACION PUBLICA",
         "DELITOS COMETIDOS POR FUNCIONARIOS PUBLICOS",
         "383",
         "Cobro indebido (concusión)",
         "1",
         "10101",
         "AMAZONAS",
         "CHACHAPOYAS",
         "CHACHAPOYAS",
         "14/06/2023"
        ],
        [
         "49",
         "ENERO - DICIEMBRE",
         "2019",
         "13/01/2020",
         "AMAZONAS",
         "PENAL",
         "DENUNCIA",
         "CONTRA LA ADMINISTRACION PUBLICA",
         "DELITOS COMETIDOS POR FUNCIONARIOS PUBLICOS",
         "384",
         "Colusión simple y agravada (concusión)",
         "12",
         "10101",
         "AMAZONAS",
         "CHACHAPOYAS",
         "CHACHAPOYAS",
         "14/06/2023"
        ]
       ],
       "shape": {
        "columns": 16,
        "rows": 48444
       }
      },
      "text/html": [
       "<div>\n",
       "<style scoped>\n",
       "    .dataframe tbody tr th:only-of-type {\n",
       "        vertical-align: middle;\n",
       "    }\n",
       "\n",
       "    .dataframe tbody tr th {\n",
       "        vertical-align: top;\n",
       "    }\n",
       "\n",
       "    .dataframe thead th {\n",
       "        text-align: right;\n",
       "    }\n",
       "</style>\n",
       "<table border=\"1\" class=\"dataframe\">\n",
       "  <thead>\n",
       "    <tr style=\"text-align: right;\">\n",
       "      <th></th>\n",
       "      <th>periodo_denuncia</th>\n",
       "      <th>anio_denuncia</th>\n",
       "      <th>fecha_descarga</th>\n",
       "      <th>distrito_fiscal</th>\n",
       "      <th>especialidad</th>\n",
       "      <th>tipo_caso</th>\n",
       "      <th>generico</th>\n",
       "      <th>subgenerico</th>\n",
       "      <th>articulo</th>\n",
       "      <th>des_articulo</th>\n",
       "      <th>cantidad</th>\n",
       "      <th>ubigeo_pjfs</th>\n",
       "      <th>dpto_pjfs</th>\n",
       "      <th>prov_pjfs</th>\n",
       "      <th>dist_pjfs</th>\n",
       "      <th>fecha_corte</th>\n",
       "    </tr>\n",
       "  </thead>\n",
       "  <tbody>\n",
       "    <tr>\n",
       "      <th>0</th>\n",
       "      <td>ENERO - DICIEMBRE</td>\n",
       "      <td>2019</td>\n",
       "      <td>13/01/2020</td>\n",
       "      <td>AMAZONAS</td>\n",
       "      <td>PENAL</td>\n",
       "      <td>DENUNCIA</td>\n",
       "      <td>CONTRA EL HONOR</td>\n",
       "      <td>CONTRA EL HONOR (Sin especificar delito subgen...</td>\n",
       "      <td>S/Art</td>\n",
       "      <td>CONTRA EL HONOR</td>\n",
       "      <td>4</td>\n",
       "      <td>10101</td>\n",
       "      <td>AMAZONAS</td>\n",
       "      <td>CHACHAPOYAS</td>\n",
       "      <td>CHACHAPOYAS</td>\n",
       "      <td>14/06/2023</td>\n",
       "    </tr>\n",
       "    <tr>\n",
       "      <th>1</th>\n",
       "      <td>ENERO - DICIEMBRE</td>\n",
       "      <td>2019</td>\n",
       "      <td>13/01/2020</td>\n",
       "      <td>AMAZONAS</td>\n",
       "      <td>PENAL</td>\n",
       "      <td>DENUNCIA</td>\n",
       "      <td>CONTRA EL HONOR</td>\n",
       "      <td>INJURIA,CALUMNIA Y DIFAMACION</td>\n",
       "      <td>130</td>\n",
       "      <td>Injuria</td>\n",
       "      <td>1</td>\n",
       "      <td>10101</td>\n",
       "      <td>AMAZONAS</td>\n",
       "      <td>CHACHAPOYAS</td>\n",
       "      <td>CHACHAPOYAS</td>\n",
       "      <td>14/06/2023</td>\n",
       "    </tr>\n",
       "    <tr>\n",
       "      <th>2</th>\n",
       "      <td>ENERO - DICIEMBRE</td>\n",
       "      <td>2019</td>\n",
       "      <td>13/01/2020</td>\n",
       "      <td>AMAZONAS</td>\n",
       "      <td>PENAL</td>\n",
       "      <td>DENUNCIA</td>\n",
       "      <td>CONTRA EL HONOR</td>\n",
       "      <td>INJURIA,CALUMNIA Y DIFAMACION</td>\n",
       "      <td>131</td>\n",
       "      <td>Calumnia</td>\n",
       "      <td>2</td>\n",
       "      <td>10101</td>\n",
       "      <td>AMAZONAS</td>\n",
       "      <td>CHACHAPOYAS</td>\n",
       "      <td>CHACHAPOYAS</td>\n",
       "      <td>14/06/2023</td>\n",
       "    </tr>\n",
       "    <tr>\n",
       "      <th>3</th>\n",
       "      <td>ENERO - DICIEMBRE</td>\n",
       "      <td>2019</td>\n",
       "      <td>13/01/2020</td>\n",
       "      <td>AMAZONAS</td>\n",
       "      <td>PENAL</td>\n",
       "      <td>DENUNCIA</td>\n",
       "      <td>CONTRA EL HONOR</td>\n",
       "      <td>INJURIA,CALUMNIA Y DIFAMACION</td>\n",
       "      <td>132</td>\n",
       "      <td>Difamación</td>\n",
       "      <td>14</td>\n",
       "      <td>10101</td>\n",
       "      <td>AMAZONAS</td>\n",
       "      <td>CHACHAPOYAS</td>\n",
       "      <td>CHACHAPOYAS</td>\n",
       "      <td>14/06/2023</td>\n",
       "    </tr>\n",
       "    <tr>\n",
       "      <th>4</th>\n",
       "      <td>ENERO - DICIEMBRE</td>\n",
       "      <td>2019</td>\n",
       "      <td>13/01/2020</td>\n",
       "      <td>AMAZONAS</td>\n",
       "      <td>PENAL</td>\n",
       "      <td>DENUNCIA</td>\n",
       "      <td>CONTRA EL HONOR</td>\n",
       "      <td>INJURIA,CALUMNIA Y DIFAMACION</td>\n",
       "      <td>S/Art</td>\n",
       "      <td>INJURIA, CALUMNIA Y DIFAMACIÓN</td>\n",
       "      <td>1</td>\n",
       "      <td>10101</td>\n",
       "      <td>AMAZONAS</td>\n",
       "      <td>CHACHAPOYAS</td>\n",
       "      <td>CHACHAPOYAS</td>\n",
       "      <td>14/06/2023</td>\n",
       "    </tr>\n",
       "    <tr>\n",
       "      <th>...</th>\n",
       "      <td>...</td>\n",
       "      <td>...</td>\n",
       "      <td>...</td>\n",
       "      <td>...</td>\n",
       "      <td>...</td>\n",
       "      <td>...</td>\n",
       "      <td>...</td>\n",
       "      <td>...</td>\n",
       "      <td>...</td>\n",
       "      <td>...</td>\n",
       "      <td>...</td>\n",
       "      <td>...</td>\n",
       "      <td>...</td>\n",
       "      <td>...</td>\n",
       "      <td>...</td>\n",
       "      <td>...</td>\n",
       "    </tr>\n",
       "    <tr>\n",
       "      <th>9027</th>\n",
       "      <td>ENERO - DICIEMBRE</td>\n",
       "      <td>2023</td>\n",
       "      <td>1/8/2024</td>\n",
       "      <td>UCAYALI</td>\n",
       "      <td>PENAL</td>\n",
       "      <td>DENUNCIA</td>\n",
       "      <td>DELITOS TRIBUTARIOS</td>\n",
       "      <td>CONTRABANDO</td>\n",
       "      <td>264</td>\n",
       "      <td>Contrabando (Derogado).</td>\n",
       "      <td>1</td>\n",
       "      <td>250101</td>\n",
       "      <td>UCAYALI</td>\n",
       "      <td>CORONEL PORTILLO</td>\n",
       "      <td>CALLERIA</td>\n",
       "      <td>1/24/2024</td>\n",
       "    </tr>\n",
       "    <tr>\n",
       "      <th>9028</th>\n",
       "      <td>ENERO - DICIEMBRE</td>\n",
       "      <td>2023</td>\n",
       "      <td>1/8/2024</td>\n",
       "      <td>UCAYALI</td>\n",
       "      <td>PENAL</td>\n",
       "      <td>DENUNCIA</td>\n",
       "      <td>LEY 26859, LEY ORGANICA DE ELECCIONES</td>\n",
       "      <td>DELITOS CONTRA EL DERECHO AL SUFRAGIO</td>\n",
       "      <td>LEY26859</td>\n",
       "      <td>Ley 26859, Ley Orgánica de Elecciones</td>\n",
       "      <td>1</td>\n",
       "      <td>250101</td>\n",
       "      <td>UCAYALI</td>\n",
       "      <td>CORONEL PORTILLO</td>\n",
       "      <td>CALLERIA</td>\n",
       "      <td>1/24/2024</td>\n",
       "    </tr>\n",
       "    <tr>\n",
       "      <th>9029</th>\n",
       "      <td>ENERO - DICIEMBRE</td>\n",
       "      <td>2023</td>\n",
       "      <td>1/8/2024</td>\n",
       "      <td>UCAYALI</td>\n",
       "      <td>PENAL</td>\n",
       "      <td>DENUNCIA</td>\n",
       "      <td>LEY Nº 30096, LEY DE DELITOS INFORMATICOS</td>\n",
       "      <td>DELITOS INFORMATICOS CONTRA EL PATRIMONIO</td>\n",
       "      <td>8</td>\n",
       "      <td>Fraude informático</td>\n",
       "      <td>223</td>\n",
       "      <td>250101</td>\n",
       "      <td>UCAYALI</td>\n",
       "      <td>CORONEL PORTILLO</td>\n",
       "      <td>CALLERIA</td>\n",
       "      <td>1/24/2024</td>\n",
       "    </tr>\n",
       "    <tr>\n",
       "      <th>9030</th>\n",
       "      <td>ENERO - DICIEMBRE</td>\n",
       "      <td>2023</td>\n",
       "      <td>1/8/2024</td>\n",
       "      <td>UCAYALI</td>\n",
       "      <td>PENAL</td>\n",
       "      <td>DENUNCIA</td>\n",
       "      <td>LEY Nº 30096, LEY DE DELITOS INFORMATICOS</td>\n",
       "      <td>DELITOS INFORMATICOS CONTRA LA FE PUBLICA</td>\n",
       "      <td>9</td>\n",
       "      <td>Suplantación de identidad</td>\n",
       "      <td>32</td>\n",
       "      <td>250101</td>\n",
       "      <td>UCAYALI</td>\n",
       "      <td>CORONEL PORTILLO</td>\n",
       "      <td>CALLERIA</td>\n",
       "      <td>1/24/2024</td>\n",
       "    </tr>\n",
       "    <tr>\n",
       "      <th>9031</th>\n",
       "      <td>ENERO - DICIEMBRE</td>\n",
       "      <td>2023</td>\n",
       "      <td>1/8/2024</td>\n",
       "      <td>UCAYALI</td>\n",
       "      <td>PENAL</td>\n",
       "      <td>DENUNCIA</td>\n",
       "      <td>LEY Nº 30096, LEY DE DELITOS INFORMATICOS</td>\n",
       "      <td>DISPOSICIONES COMUNES</td>\n",
       "      <td>10</td>\n",
       "      <td>Abuso de mecanismos y dispositivos informáticos</td>\n",
       "      <td>2</td>\n",
       "      <td>250101</td>\n",
       "      <td>UCAYALI</td>\n",
       "      <td>CORONEL PORTILLO</td>\n",
       "      <td>CALLERIA</td>\n",
       "      <td>1/24/2024</td>\n",
       "    </tr>\n",
       "  </tbody>\n",
       "</table>\n",
       "<p>48444 rows × 16 columns</p>\n",
       "</div>"
      ],
      "text/plain": [
       "       periodo_denuncia  anio_denuncia fecha_descarga distrito_fiscal  \\\n",
       "0     ENERO - DICIEMBRE           2019     13/01/2020        AMAZONAS   \n",
       "1     ENERO - DICIEMBRE           2019     13/01/2020        AMAZONAS   \n",
       "2     ENERO - DICIEMBRE           2019     13/01/2020        AMAZONAS   \n",
       "3     ENERO - DICIEMBRE           2019     13/01/2020        AMAZONAS   \n",
       "4     ENERO - DICIEMBRE           2019     13/01/2020        AMAZONAS   \n",
       "...                 ...            ...            ...             ...   \n",
       "9027  ENERO - DICIEMBRE           2023       1/8/2024         UCAYALI   \n",
       "9028  ENERO - DICIEMBRE           2023       1/8/2024         UCAYALI   \n",
       "9029  ENERO - DICIEMBRE           2023       1/8/2024         UCAYALI   \n",
       "9030  ENERO - DICIEMBRE           2023       1/8/2024         UCAYALI   \n",
       "9031  ENERO - DICIEMBRE           2023       1/8/2024         UCAYALI   \n",
       "\n",
       "     especialidad tipo_caso                                   generico  \\\n",
       "0           PENAL  DENUNCIA                            CONTRA EL HONOR   \n",
       "1           PENAL  DENUNCIA                            CONTRA EL HONOR   \n",
       "2           PENAL  DENUNCIA                            CONTRA EL HONOR   \n",
       "3           PENAL  DENUNCIA                            CONTRA EL HONOR   \n",
       "4           PENAL  DENUNCIA                            CONTRA EL HONOR   \n",
       "...           ...       ...                                        ...   \n",
       "9027        PENAL  DENUNCIA                        DELITOS TRIBUTARIOS   \n",
       "9028        PENAL  DENUNCIA      LEY 26859, LEY ORGANICA DE ELECCIONES   \n",
       "9029        PENAL  DENUNCIA  LEY Nº 30096, LEY DE DELITOS INFORMATICOS   \n",
       "9030        PENAL  DENUNCIA  LEY Nº 30096, LEY DE DELITOS INFORMATICOS   \n",
       "9031        PENAL  DENUNCIA  LEY Nº 30096, LEY DE DELITOS INFORMATICOS   \n",
       "\n",
       "                                            subgenerico  articulo  \\\n",
       "0     CONTRA EL HONOR (Sin especificar delito subgen...     S/Art   \n",
       "1                         INJURIA,CALUMNIA Y DIFAMACION       130   \n",
       "2                         INJURIA,CALUMNIA Y DIFAMACION       131   \n",
       "3                         INJURIA,CALUMNIA Y DIFAMACION       132   \n",
       "4                         INJURIA,CALUMNIA Y DIFAMACION     S/Art   \n",
       "...                                                 ...       ...   \n",
       "9027                                        CONTRABANDO       264   \n",
       "9028              DELITOS CONTRA EL DERECHO AL SUFRAGIO  LEY26859   \n",
       "9029          DELITOS INFORMATICOS CONTRA EL PATRIMONIO         8   \n",
       "9030          DELITOS INFORMATICOS CONTRA LA FE PUBLICA         9   \n",
       "9031                              DISPOSICIONES COMUNES        10   \n",
       "\n",
       "                                         des_articulo  cantidad  ubigeo_pjfs  \\\n",
       "0                                     CONTRA EL HONOR         4        10101   \n",
       "1                                             Injuria         1        10101   \n",
       "2                                            Calumnia         2        10101   \n",
       "3                                          Difamación        14        10101   \n",
       "4                      INJURIA, CALUMNIA Y DIFAMACIÓN         1        10101   \n",
       "...                                               ...       ...          ...   \n",
       "9027                          Contrabando (Derogado).         1       250101   \n",
       "9028            Ley 26859, Ley Orgánica de Elecciones         1       250101   \n",
       "9029                               Fraude informático       223       250101   \n",
       "9030                        Suplantación de identidad        32       250101   \n",
       "9031  Abuso de mecanismos y dispositivos informáticos         2       250101   \n",
       "\n",
       "     dpto_pjfs         prov_pjfs    dist_pjfs fecha_corte  \n",
       "0     AMAZONAS       CHACHAPOYAS  CHACHAPOYAS  14/06/2023  \n",
       "1     AMAZONAS       CHACHAPOYAS  CHACHAPOYAS  14/06/2023  \n",
       "2     AMAZONAS       CHACHAPOYAS  CHACHAPOYAS  14/06/2023  \n",
       "3     AMAZONAS       CHACHAPOYAS  CHACHAPOYAS  14/06/2023  \n",
       "4     AMAZONAS       CHACHAPOYAS  CHACHAPOYAS  14/06/2023  \n",
       "...        ...               ...          ...         ...  \n",
       "9027   UCAYALI  CORONEL PORTILLO     CALLERIA   1/24/2024  \n",
       "9028   UCAYALI  CORONEL PORTILLO     CALLERIA   1/24/2024  \n",
       "9029   UCAYALI  CORONEL PORTILLO     CALLERIA   1/24/2024  \n",
       "9030   UCAYALI  CORONEL PORTILLO     CALLERIA   1/24/2024  \n",
       "9031   UCAYALI  CORONEL PORTILLO     CALLERIA   1/24/2024  \n",
       "\n",
       "[48444 rows x 16 columns]"
      ]
     },
     "execution_count": 4,
     "metadata": {},
     "output_type": "execute_result"
    }
   ],
   "source": [
    "dd = pd.concat([dd19, dd20, dd21, dd22, dd23])\n",
    "dd"
   ]
  },
  {
   "cell_type": "markdown",
   "metadata": {},
   "source": [
    "# Limpieza"
   ]
  },
  {
   "cell_type": "code",
   "execution_count": 5,
   "metadata": {},
   "outputs": [
    {
     "data": {
      "application/vnd.microsoft.datawrangler.viewer.v0+json": {
       "columns": [
        {
         "name": "index",
         "rawType": "int64",
         "type": "integer"
        },
        {
         "name": "anio_denuncia",
         "rawType": "int64",
         "type": "integer"
        },
        {
         "name": "generico",
         "rawType": "object",
         "type": "string"
        },
        {
         "name": "subgenerico",
         "rawType": "object",
         "type": "string"
        },
        {
         "name": "cantidad",
         "rawType": "int64",
         "type": "integer"
        },
        {
         "name": "ubigeo_pjfs",
         "rawType": "int64",
         "type": "integer"
        },
        {
         "name": "dpto_pjfs",
         "rawType": "object",
         "type": "string"
        }
       ],
       "conversionMethod": "pd.DataFrame",
       "ref": "35d07623-1f7e-4366-b5f0-dde3e9666154",
       "rows": [
        [
         "0",
         "2019",
         "CONTRA EL HONOR",
         "CONTRA EL HONOR (Sin especificar delito subgenérico)",
         "4",
         "10101",
         "AMAZONAS"
        ],
        [
         "1",
         "2019",
         "CONTRA EL HONOR",
         "INJURIA,CALUMNIA Y DIFAMACION",
         "1",
         "10101",
         "AMAZONAS"
        ],
        [
         "2",
         "2019",
         "CONTRA EL HONOR",
         "INJURIA,CALUMNIA Y DIFAMACION",
         "2",
         "10101",
         "AMAZONAS"
        ],
        [
         "3",
         "2019",
         "CONTRA EL HONOR",
         "INJURIA,CALUMNIA Y DIFAMACION",
         "14",
         "10101",
         "AMAZONAS"
        ],
        [
         "4",
         "2019",
         "CONTRA EL HONOR",
         "INJURIA,CALUMNIA Y DIFAMACION",
         "1",
         "10101",
         "AMAZONAS"
        ],
        [
         "5",
         "2019",
         "CONTRA EL ORDEN ECONOMICO",
         "ACAPARAMIENTO, ESPECULACION, ADULTERACION",
         "2",
         "10101",
         "AMAZONAS"
        ],
        [
         "6",
         "2019",
         "CONTRA EL ORDEN FINANCIERO Y MONETARIO",
         "CONTRA EL ORDEN FINANCIERO Y MONETARIO (Sin especificar delito subgenérico)",
         "2",
         "10101",
         "AMAZONAS"
        ],
        [
         "7",
         "2019",
         "CONTRA EL ORDEN FINANCIERO Y MONETARIO",
         "DELITOS MONETARIOS",
         "11",
         "10101",
         "AMAZONAS"
        ],
        [
         "8",
         "2019",
         "CONTRA EL ORDEN FINANCIERO Y MONETARIO",
         "DELITOS MONETARIOS",
         "2",
         "10101",
         "AMAZONAS"
        ],
        [
         "9",
         "2019",
         "CONTRA EL PATRIMONIO",
         "ABIGEATO",
         "55",
         "10101",
         "AMAZONAS"
        ],
        [
         "10",
         "2019",
         "CONTRA EL PATRIMONIO",
         "ABIGEATO",
         "1",
         "10101",
         "AMAZONAS"
        ],
        [
         "11",
         "2019",
         "CONTRA EL PATRIMONIO",
         "ABIGEATO",
         "1",
         "10101",
         "AMAZONAS"
        ],
        [
         "12",
         "2019",
         "CONTRA EL PATRIMONIO",
         "ABIGEATO",
         "15",
         "10101",
         "AMAZONAS"
        ],
        [
         "13",
         "2019",
         "CONTRA EL PATRIMONIO",
         "APROPIACION ILICITA",
         "44",
         "10101",
         "AMAZONAS"
        ],
        [
         "14",
         "2019",
         "CONTRA EL PATRIMONIO",
         "APROPIACION ILICITA",
         "1",
         "10101",
         "AMAZONAS"
        ],
        [
         "15",
         "2019",
         "CONTRA EL PATRIMONIO",
         "APROPIACION ILICITA",
         "4",
         "10101",
         "AMAZONAS"
        ],
        [
         "16",
         "2019",
         "CONTRA EL PATRIMONIO",
         "APROPIACION ILICITA",
         "1",
         "10101",
         "AMAZONAS"
        ],
        [
         "17",
         "2019",
         "CONTRA EL PATRIMONIO",
         "APROPIACION ILICITA",
         "46",
         "10101",
         "AMAZONAS"
        ],
        [
         "18",
         "2019",
         "CONTRA EL PATRIMONIO",
         "CONTRA EL PATRIMONIO (Sin especificar delito subgenérico)",
         "92",
         "10101",
         "AMAZONAS"
        ],
        [
         "19",
         "2019",
         "CONTRA EL PATRIMONIO",
         "DAÑOS",
         "121",
         "10101",
         "AMAZONAS"
        ],
        [
         "20",
         "2019",
         "CONTRA EL PATRIMONIO",
         "DAÑOS",
         "37",
         "10101",
         "AMAZONAS"
        ],
        [
         "21",
         "2019",
         "CONTRA EL PATRIMONIO",
         "DAÑOS",
         "2",
         "10101",
         "AMAZONAS"
        ],
        [
         "22",
         "2019",
         "CONTRA EL PATRIMONIO",
         "DAÑOS",
         "272",
         "10101",
         "AMAZONAS"
        ],
        [
         "23",
         "2019",
         "CONTRA EL PATRIMONIO",
         "ESTAFA Y OTRAS DEFRAUDACIONES",
         "105",
         "10101",
         "AMAZONAS"
        ],
        [
         "24",
         "2019",
         "CONTRA EL PATRIMONIO",
         "ESTAFA Y OTRAS DEFRAUDACIONES",
         "7",
         "10101",
         "AMAZONAS"
        ],
        [
         "25",
         "2019",
         "CONTRA EL PATRIMONIO",
         "ESTAFA Y OTRAS DEFRAUDACIONES",
         "4",
         "10101",
         "AMAZONAS"
        ],
        [
         "26",
         "2019",
         "CONTRA EL PATRIMONIO",
         "ESTAFA Y OTRAS DEFRAUDACIONES",
         "5",
         "10101",
         "AMAZONAS"
        ],
        [
         "27",
         "2019",
         "CONTRA EL PATRIMONIO",
         "EXTORSION",
         "13",
         "10101",
         "AMAZONAS"
        ],
        [
         "28",
         "2019",
         "CONTRA EL PATRIMONIO",
         "EXTORSION",
         "1",
         "10101",
         "AMAZONAS"
        ],
        [
         "29",
         "2019",
         "CONTRA EL PATRIMONIO",
         "EXTORSION",
         "1",
         "10101",
         "AMAZONAS"
        ],
        [
         "30",
         "2019",
         "CONTRA EL PATRIMONIO",
         "HURTO",
         "209",
         "10101",
         "AMAZONAS"
        ],
        [
         "31",
         "2019",
         "CONTRA EL PATRIMONIO",
         "HURTO",
         "456",
         "10101",
         "AMAZONAS"
        ],
        [
         "32",
         "2019",
         "CONTRA EL PATRIMONIO",
         "HURTO",
         "671",
         "10101",
         "AMAZONAS"
        ],
        [
         "33",
         "2019",
         "CONTRA EL PATRIMONIO",
         "RECEPTACION",
         "33",
         "10101",
         "AMAZONAS"
        ],
        [
         "34",
         "2019",
         "CONTRA EL PATRIMONIO",
         "RECEPTACION",
         "4",
         "10101",
         "AMAZONAS"
        ],
        [
         "35",
         "2019",
         "CONTRA EL PATRIMONIO",
         "RECEPTACION",
         "15",
         "10101",
         "AMAZONAS"
        ],
        [
         "36",
         "2019",
         "CONTRA EL PATRIMONIO",
         "ROBO",
         "20",
         "10101",
         "AMAZONAS"
        ],
        [
         "37",
         "2019",
         "CONTRA EL PATRIMONIO",
         "ROBO",
         "119",
         "10101",
         "AMAZONAS"
        ],
        [
         "38",
         "2019",
         "CONTRA EL PATRIMONIO",
         "ROBO",
         "44",
         "10101",
         "AMAZONAS"
        ],
        [
         "39",
         "2019",
         "CONTRA EL PATRIMONIO",
         "USURPACION",
         "99",
         "10101",
         "AMAZONAS"
        ],
        [
         "40",
         "2019",
         "CONTRA EL PATRIMONIO",
         "USURPACION",
         "2",
         "10101",
         "AMAZONAS"
        ],
        [
         "41",
         "2019",
         "CONTRA EL PATRIMONIO",
         "USURPACION",
         "26",
         "10101",
         "AMAZONAS"
        ],
        [
         "42",
         "2019",
         "CONTRA EL PATRIMONIO",
         "USURPACION",
         "130",
         "10101",
         "AMAZONAS"
        ],
        [
         "43",
         "2019",
         "CONTRA EL PATRIMONIO CULTURAL",
         "CONTRA LOS BIENES CULTURALES",
         "1",
         "10101",
         "AMAZONAS"
        ],
        [
         "44",
         "2019",
         "CONTRA LA ADMINISTRACION PUBLICA",
         "DELITOS COMETIDOS POR FUNCIONARIOS PUBLICOS",
         "73",
         "10101",
         "AMAZONAS"
        ],
        [
         "45",
         "2019",
         "CONTRA LA ADMINISTRACION PUBLICA",
         "DELITOS COMETIDOS POR FUNCIONARIOS PUBLICOS",
         "65",
         "10101",
         "AMAZONAS"
        ],
        [
         "46",
         "2019",
         "CONTRA LA ADMINISTRACION PUBLICA",
         "DELITOS COMETIDOS POR FUNCIONARIOS PUBLICOS",
         "1",
         "10101",
         "AMAZONAS"
        ],
        [
         "47",
         "2019",
         "CONTRA LA ADMINISTRACION PUBLICA",
         "DELITOS COMETIDOS POR FUNCIONARIOS PUBLICOS",
         "7",
         "10101",
         "AMAZONAS"
        ],
        [
         "48",
         "2019",
         "CONTRA LA ADMINISTRACION PUBLICA",
         "DELITOS COMETIDOS POR FUNCIONARIOS PUBLICOS",
         "1",
         "10101",
         "AMAZONAS"
        ],
        [
         "49",
         "2019",
         "CONTRA LA ADMINISTRACION PUBLICA",
         "DELITOS COMETIDOS POR FUNCIONARIOS PUBLICOS",
         "12",
         "10101",
         "AMAZONAS"
        ]
       ],
       "shape": {
        "columns": 6,
        "rows": 48444
       }
      },
      "text/html": [
       "<div>\n",
       "<style scoped>\n",
       "    .dataframe tbody tr th:only-of-type {\n",
       "        vertical-align: middle;\n",
       "    }\n",
       "\n",
       "    .dataframe tbody tr th {\n",
       "        vertical-align: top;\n",
       "    }\n",
       "\n",
       "    .dataframe thead th {\n",
       "        text-align: right;\n",
       "    }\n",
       "</style>\n",
       "<table border=\"1\" class=\"dataframe\">\n",
       "  <thead>\n",
       "    <tr style=\"text-align: right;\">\n",
       "      <th></th>\n",
       "      <th>anio_denuncia</th>\n",
       "      <th>generico</th>\n",
       "      <th>subgenerico</th>\n",
       "      <th>cantidad</th>\n",
       "      <th>ubigeo_pjfs</th>\n",
       "      <th>dpto_pjfs</th>\n",
       "    </tr>\n",
       "  </thead>\n",
       "  <tbody>\n",
       "    <tr>\n",
       "      <th>0</th>\n",
       "      <td>2019</td>\n",
       "      <td>CONTRA EL HONOR</td>\n",
       "      <td>CONTRA EL HONOR (Sin especificar delito subgen...</td>\n",
       "      <td>4</td>\n",
       "      <td>10101</td>\n",
       "      <td>AMAZONAS</td>\n",
       "    </tr>\n",
       "    <tr>\n",
       "      <th>1</th>\n",
       "      <td>2019</td>\n",
       "      <td>CONTRA EL HONOR</td>\n",
       "      <td>INJURIA,CALUMNIA Y DIFAMACION</td>\n",
       "      <td>1</td>\n",
       "      <td>10101</td>\n",
       "      <td>AMAZONAS</td>\n",
       "    </tr>\n",
       "    <tr>\n",
       "      <th>2</th>\n",
       "      <td>2019</td>\n",
       "      <td>CONTRA EL HONOR</td>\n",
       "      <td>INJURIA,CALUMNIA Y DIFAMACION</td>\n",
       "      <td>2</td>\n",
       "      <td>10101</td>\n",
       "      <td>AMAZONAS</td>\n",
       "    </tr>\n",
       "    <tr>\n",
       "      <th>3</th>\n",
       "      <td>2019</td>\n",
       "      <td>CONTRA EL HONOR</td>\n",
       "      <td>INJURIA,CALUMNIA Y DIFAMACION</td>\n",
       "      <td>14</td>\n",
       "      <td>10101</td>\n",
       "      <td>AMAZONAS</td>\n",
       "    </tr>\n",
       "    <tr>\n",
       "      <th>4</th>\n",
       "      <td>2019</td>\n",
       "      <td>CONTRA EL HONOR</td>\n",
       "      <td>INJURIA,CALUMNIA Y DIFAMACION</td>\n",
       "      <td>1</td>\n",
       "      <td>10101</td>\n",
       "      <td>AMAZONAS</td>\n",
       "    </tr>\n",
       "    <tr>\n",
       "      <th>...</th>\n",
       "      <td>...</td>\n",
       "      <td>...</td>\n",
       "      <td>...</td>\n",
       "      <td>...</td>\n",
       "      <td>...</td>\n",
       "      <td>...</td>\n",
       "    </tr>\n",
       "    <tr>\n",
       "      <th>9027</th>\n",
       "      <td>2023</td>\n",
       "      <td>DELITOS TRIBUTARIOS</td>\n",
       "      <td>CONTRABANDO</td>\n",
       "      <td>1</td>\n",
       "      <td>250101</td>\n",
       "      <td>UCAYALI</td>\n",
       "    </tr>\n",
       "    <tr>\n",
       "      <th>9028</th>\n",
       "      <td>2023</td>\n",
       "      <td>LEY 26859, LEY ORGANICA DE ELECCIONES</td>\n",
       "      <td>DELITOS CONTRA EL DERECHO AL SUFRAGIO</td>\n",
       "      <td>1</td>\n",
       "      <td>250101</td>\n",
       "      <td>UCAYALI</td>\n",
       "    </tr>\n",
       "    <tr>\n",
       "      <th>9029</th>\n",
       "      <td>2023</td>\n",
       "      <td>LEY Nº 30096, LEY DE DELITOS INFORMATICOS</td>\n",
       "      <td>DELITOS INFORMATICOS CONTRA EL PATRIMONIO</td>\n",
       "      <td>223</td>\n",
       "      <td>250101</td>\n",
       "      <td>UCAYALI</td>\n",
       "    </tr>\n",
       "    <tr>\n",
       "      <th>9030</th>\n",
       "      <td>2023</td>\n",
       "      <td>LEY Nº 30096, LEY DE DELITOS INFORMATICOS</td>\n",
       "      <td>DELITOS INFORMATICOS CONTRA LA FE PUBLICA</td>\n",
       "      <td>32</td>\n",
       "      <td>250101</td>\n",
       "      <td>UCAYALI</td>\n",
       "    </tr>\n",
       "    <tr>\n",
       "      <th>9031</th>\n",
       "      <td>2023</td>\n",
       "      <td>LEY Nº 30096, LEY DE DELITOS INFORMATICOS</td>\n",
       "      <td>DISPOSICIONES COMUNES</td>\n",
       "      <td>2</td>\n",
       "      <td>250101</td>\n",
       "      <td>UCAYALI</td>\n",
       "    </tr>\n",
       "  </tbody>\n",
       "</table>\n",
       "<p>48444 rows × 6 columns</p>\n",
       "</div>"
      ],
      "text/plain": [
       "      anio_denuncia                                   generico  \\\n",
       "0              2019                            CONTRA EL HONOR   \n",
       "1              2019                            CONTRA EL HONOR   \n",
       "2              2019                            CONTRA EL HONOR   \n",
       "3              2019                            CONTRA EL HONOR   \n",
       "4              2019                            CONTRA EL HONOR   \n",
       "...             ...                                        ...   \n",
       "9027           2023                        DELITOS TRIBUTARIOS   \n",
       "9028           2023      LEY 26859, LEY ORGANICA DE ELECCIONES   \n",
       "9029           2023  LEY Nº 30096, LEY DE DELITOS INFORMATICOS   \n",
       "9030           2023  LEY Nº 30096, LEY DE DELITOS INFORMATICOS   \n",
       "9031           2023  LEY Nº 30096, LEY DE DELITOS INFORMATICOS   \n",
       "\n",
       "                                            subgenerico  cantidad  \\\n",
       "0     CONTRA EL HONOR (Sin especificar delito subgen...         4   \n",
       "1                         INJURIA,CALUMNIA Y DIFAMACION         1   \n",
       "2                         INJURIA,CALUMNIA Y DIFAMACION         2   \n",
       "3                         INJURIA,CALUMNIA Y DIFAMACION        14   \n",
       "4                         INJURIA,CALUMNIA Y DIFAMACION         1   \n",
       "...                                                 ...       ...   \n",
       "9027                                        CONTRABANDO         1   \n",
       "9028              DELITOS CONTRA EL DERECHO AL SUFRAGIO         1   \n",
       "9029          DELITOS INFORMATICOS CONTRA EL PATRIMONIO       223   \n",
       "9030          DELITOS INFORMATICOS CONTRA LA FE PUBLICA        32   \n",
       "9031                              DISPOSICIONES COMUNES         2   \n",
       "\n",
       "      ubigeo_pjfs dpto_pjfs  \n",
       "0           10101  AMAZONAS  \n",
       "1           10101  AMAZONAS  \n",
       "2           10101  AMAZONAS  \n",
       "3           10101  AMAZONAS  \n",
       "4           10101  AMAZONAS  \n",
       "...           ...       ...  \n",
       "9027       250101   UCAYALI  \n",
       "9028       250101   UCAYALI  \n",
       "9029       250101   UCAYALI  \n",
       "9030       250101   UCAYALI  \n",
       "9031       250101   UCAYALI  \n",
       "\n",
       "[48444 rows x 6 columns]"
      ]
     },
     "execution_count": 5,
     "metadata": {},
     "output_type": "execute_result"
    }
   ],
   "source": [
    "dd.drop(columns=[\"periodo_denuncia\",\"fecha_descarga\",\"especialidad\", \"tipo_caso\", \"articulo\", \"des_articulo\", \"fecha_corte\", \"distrito_fiscal\", \"prov_pjfs\",\"dist_pjfs\"], inplace=True)\n",
    "dd"
   ]
  },
  {
   "cell_type": "code",
   "execution_count": 6,
   "metadata": {},
   "outputs": [],
   "source": [
    "#funcion para convertir los valroes de una columna a minusculas\n",
    "def lower_case(x):\n",
    "    if isinstance(x, str):\n",
    "        return x.lower()\n",
    "    else:\n",
    "        return x"
   ]
  },
  {
   "cell_type": "code",
   "execution_count": 7,
   "metadata": {},
   "outputs": [
    {
     "data": {
      "application/vnd.microsoft.datawrangler.viewer.v0+json": {
       "columns": [
        {
         "name": "index",
         "rawType": "int64",
         "type": "integer"
        },
        {
         "name": "anio_denuncia",
         "rawType": "int64",
         "type": "integer"
        },
        {
         "name": "generico",
         "rawType": "object",
         "type": "string"
        },
        {
         "name": "subgenerico",
         "rawType": "object",
         "type": "string"
        },
        {
         "name": "cantidad",
         "rawType": "int64",
         "type": "integer"
        },
        {
         "name": "ubigeo_pjfs",
         "rawType": "int64",
         "type": "integer"
        },
        {
         "name": "dpto_pjfs",
         "rawType": "object",
         "type": "string"
        }
       ],
       "conversionMethod": "pd.DataFrame",
       "ref": "b6812535-78bc-4cf2-a1f3-2a6c8b85c0bd",
       "rows": [
        [
         "0",
         "2019",
         "contra el honor",
         "contra el honor (sin especificar delito subgenérico)",
         "4",
         "10101",
         "amazonas"
        ],
        [
         "1",
         "2019",
         "contra el honor",
         "injuria,calumnia y difamacion",
         "1",
         "10101",
         "amazonas"
        ],
        [
         "2",
         "2019",
         "contra el honor",
         "injuria,calumnia y difamacion",
         "2",
         "10101",
         "amazonas"
        ],
        [
         "3",
         "2019",
         "contra el honor",
         "injuria,calumnia y difamacion",
         "14",
         "10101",
         "amazonas"
        ],
        [
         "4",
         "2019",
         "contra el honor",
         "injuria,calumnia y difamacion",
         "1",
         "10101",
         "amazonas"
        ],
        [
         "5",
         "2019",
         "contra el orden economico",
         "acaparamiento, especulacion, adulteracion",
         "2",
         "10101",
         "amazonas"
        ],
        [
         "6",
         "2019",
         "contra el orden financiero y monetario",
         "contra el orden financiero y monetario (sin especificar delito subgenérico)",
         "2",
         "10101",
         "amazonas"
        ],
        [
         "7",
         "2019",
         "contra el orden financiero y monetario",
         "delitos monetarios",
         "11",
         "10101",
         "amazonas"
        ],
        [
         "8",
         "2019",
         "contra el orden financiero y monetario",
         "delitos monetarios",
         "2",
         "10101",
         "amazonas"
        ],
        [
         "9",
         "2019",
         "contra el patrimonio",
         "abigeato",
         "55",
         "10101",
         "amazonas"
        ],
        [
         "10",
         "2019",
         "contra el patrimonio",
         "abigeato",
         "1",
         "10101",
         "amazonas"
        ],
        [
         "11",
         "2019",
         "contra el patrimonio",
         "abigeato",
         "1",
         "10101",
         "amazonas"
        ],
        [
         "12",
         "2019",
         "contra el patrimonio",
         "abigeato",
         "15",
         "10101",
         "amazonas"
        ],
        [
         "13",
         "2019",
         "contra el patrimonio",
         "apropiacion ilicita",
         "44",
         "10101",
         "amazonas"
        ],
        [
         "14",
         "2019",
         "contra el patrimonio",
         "apropiacion ilicita",
         "1",
         "10101",
         "amazonas"
        ],
        [
         "15",
         "2019",
         "contra el patrimonio",
         "apropiacion ilicita",
         "4",
         "10101",
         "amazonas"
        ],
        [
         "16",
         "2019",
         "contra el patrimonio",
         "apropiacion ilicita",
         "1",
         "10101",
         "amazonas"
        ],
        [
         "17",
         "2019",
         "contra el patrimonio",
         "apropiacion ilicita",
         "46",
         "10101",
         "amazonas"
        ],
        [
         "18",
         "2019",
         "contra el patrimonio",
         "contra el patrimonio (sin especificar delito subgenérico)",
         "92",
         "10101",
         "amazonas"
        ],
        [
         "19",
         "2019",
         "contra el patrimonio",
         "daños",
         "121",
         "10101",
         "amazonas"
        ],
        [
         "20",
         "2019",
         "contra el patrimonio",
         "daños",
         "37",
         "10101",
         "amazonas"
        ],
        [
         "21",
         "2019",
         "contra el patrimonio",
         "daños",
         "2",
         "10101",
         "amazonas"
        ],
        [
         "22",
         "2019",
         "contra el patrimonio",
         "daños",
         "272",
         "10101",
         "amazonas"
        ],
        [
         "23",
         "2019",
         "contra el patrimonio",
         "estafa y otras defraudaciones",
         "105",
         "10101",
         "amazonas"
        ],
        [
         "24",
         "2019",
         "contra el patrimonio",
         "estafa y otras defraudaciones",
         "7",
         "10101",
         "amazonas"
        ],
        [
         "25",
         "2019",
         "contra el patrimonio",
         "estafa y otras defraudaciones",
         "4",
         "10101",
         "amazonas"
        ],
        [
         "26",
         "2019",
         "contra el patrimonio",
         "estafa y otras defraudaciones",
         "5",
         "10101",
         "amazonas"
        ],
        [
         "27",
         "2019",
         "contra el patrimonio",
         "extorsion",
         "13",
         "10101",
         "amazonas"
        ],
        [
         "28",
         "2019",
         "contra el patrimonio",
         "extorsion",
         "1",
         "10101",
         "amazonas"
        ],
        [
         "29",
         "2019",
         "contra el patrimonio",
         "extorsion",
         "1",
         "10101",
         "amazonas"
        ],
        [
         "30",
         "2019",
         "contra el patrimonio",
         "hurto",
         "209",
         "10101",
         "amazonas"
        ],
        [
         "31",
         "2019",
         "contra el patrimonio",
         "hurto",
         "456",
         "10101",
         "amazonas"
        ],
        [
         "32",
         "2019",
         "contra el patrimonio",
         "hurto",
         "671",
         "10101",
         "amazonas"
        ],
        [
         "33",
         "2019",
         "contra el patrimonio",
         "receptacion",
         "33",
         "10101",
         "amazonas"
        ],
        [
         "34",
         "2019",
         "contra el patrimonio",
         "receptacion",
         "4",
         "10101",
         "amazonas"
        ],
        [
         "35",
         "2019",
         "contra el patrimonio",
         "receptacion",
         "15",
         "10101",
         "amazonas"
        ],
        [
         "36",
         "2019",
         "contra el patrimonio",
         "robo",
         "20",
         "10101",
         "amazonas"
        ],
        [
         "37",
         "2019",
         "contra el patrimonio",
         "robo",
         "119",
         "10101",
         "amazonas"
        ],
        [
         "38",
         "2019",
         "contra el patrimonio",
         "robo",
         "44",
         "10101",
         "amazonas"
        ],
        [
         "39",
         "2019",
         "contra el patrimonio",
         "usurpacion",
         "99",
         "10101",
         "amazonas"
        ],
        [
         "40",
         "2019",
         "contra el patrimonio",
         "usurpacion",
         "2",
         "10101",
         "amazonas"
        ],
        [
         "41",
         "2019",
         "contra el patrimonio",
         "usurpacion",
         "26",
         "10101",
         "amazonas"
        ],
        [
         "42",
         "2019",
         "contra el patrimonio",
         "usurpacion",
         "130",
         "10101",
         "amazonas"
        ],
        [
         "43",
         "2019",
         "contra el patrimonio cultural",
         "contra los bienes culturales",
         "1",
         "10101",
         "amazonas"
        ],
        [
         "44",
         "2019",
         "contra la administracion publica",
         "delitos cometidos por funcionarios publicos",
         "73",
         "10101",
         "amazonas"
        ],
        [
         "45",
         "2019",
         "contra la administracion publica",
         "delitos cometidos por funcionarios publicos",
         "65",
         "10101",
         "amazonas"
        ],
        [
         "46",
         "2019",
         "contra la administracion publica",
         "delitos cometidos por funcionarios publicos",
         "1",
         "10101",
         "amazonas"
        ],
        [
         "47",
         "2019",
         "contra la administracion publica",
         "delitos cometidos por funcionarios publicos",
         "7",
         "10101",
         "amazonas"
        ],
        [
         "48",
         "2019",
         "contra la administracion publica",
         "delitos cometidos por funcionarios publicos",
         "1",
         "10101",
         "amazonas"
        ],
        [
         "49",
         "2019",
         "contra la administracion publica",
         "delitos cometidos por funcionarios publicos",
         "12",
         "10101",
         "amazonas"
        ]
       ],
       "shape": {
        "columns": 6,
        "rows": 48444
       }
      },
      "text/html": [
       "<div>\n",
       "<style scoped>\n",
       "    .dataframe tbody tr th:only-of-type {\n",
       "        vertical-align: middle;\n",
       "    }\n",
       "\n",
       "    .dataframe tbody tr th {\n",
       "        vertical-align: top;\n",
       "    }\n",
       "\n",
       "    .dataframe thead th {\n",
       "        text-align: right;\n",
       "    }\n",
       "</style>\n",
       "<table border=\"1\" class=\"dataframe\">\n",
       "  <thead>\n",
       "    <tr style=\"text-align: right;\">\n",
       "      <th></th>\n",
       "      <th>anio_denuncia</th>\n",
       "      <th>generico</th>\n",
       "      <th>subgenerico</th>\n",
       "      <th>cantidad</th>\n",
       "      <th>ubigeo_pjfs</th>\n",
       "      <th>dpto_pjfs</th>\n",
       "    </tr>\n",
       "  </thead>\n",
       "  <tbody>\n",
       "    <tr>\n",
       "      <th>0</th>\n",
       "      <td>2019</td>\n",
       "      <td>contra el honor</td>\n",
       "      <td>contra el honor (sin especificar delito subgen...</td>\n",
       "      <td>4</td>\n",
       "      <td>10101</td>\n",
       "      <td>amazonas</td>\n",
       "    </tr>\n",
       "    <tr>\n",
       "      <th>1</th>\n",
       "      <td>2019</td>\n",
       "      <td>contra el honor</td>\n",
       "      <td>injuria,calumnia y difamacion</td>\n",
       "      <td>1</td>\n",
       "      <td>10101</td>\n",
       "      <td>amazonas</td>\n",
       "    </tr>\n",
       "    <tr>\n",
       "      <th>2</th>\n",
       "      <td>2019</td>\n",
       "      <td>contra el honor</td>\n",
       "      <td>injuria,calumnia y difamacion</td>\n",
       "      <td>2</td>\n",
       "      <td>10101</td>\n",
       "      <td>amazonas</td>\n",
       "    </tr>\n",
       "    <tr>\n",
       "      <th>3</th>\n",
       "      <td>2019</td>\n",
       "      <td>contra el honor</td>\n",
       "      <td>injuria,calumnia y difamacion</td>\n",
       "      <td>14</td>\n",
       "      <td>10101</td>\n",
       "      <td>amazonas</td>\n",
       "    </tr>\n",
       "    <tr>\n",
       "      <th>4</th>\n",
       "      <td>2019</td>\n",
       "      <td>contra el honor</td>\n",
       "      <td>injuria,calumnia y difamacion</td>\n",
       "      <td>1</td>\n",
       "      <td>10101</td>\n",
       "      <td>amazonas</td>\n",
       "    </tr>\n",
       "    <tr>\n",
       "      <th>...</th>\n",
       "      <td>...</td>\n",
       "      <td>...</td>\n",
       "      <td>...</td>\n",
       "      <td>...</td>\n",
       "      <td>...</td>\n",
       "      <td>...</td>\n",
       "    </tr>\n",
       "    <tr>\n",
       "      <th>9027</th>\n",
       "      <td>2023</td>\n",
       "      <td>delitos tributarios</td>\n",
       "      <td>contrabando</td>\n",
       "      <td>1</td>\n",
       "      <td>250101</td>\n",
       "      <td>ucayali</td>\n",
       "    </tr>\n",
       "    <tr>\n",
       "      <th>9028</th>\n",
       "      <td>2023</td>\n",
       "      <td>ley 26859, ley organica de elecciones</td>\n",
       "      <td>delitos contra el derecho al sufragio</td>\n",
       "      <td>1</td>\n",
       "      <td>250101</td>\n",
       "      <td>ucayali</td>\n",
       "    </tr>\n",
       "    <tr>\n",
       "      <th>9029</th>\n",
       "      <td>2023</td>\n",
       "      <td>ley nº 30096, ley de delitos informaticos</td>\n",
       "      <td>delitos informaticos contra el patrimonio</td>\n",
       "      <td>223</td>\n",
       "      <td>250101</td>\n",
       "      <td>ucayali</td>\n",
       "    </tr>\n",
       "    <tr>\n",
       "      <th>9030</th>\n",
       "      <td>2023</td>\n",
       "      <td>ley nº 30096, ley de delitos informaticos</td>\n",
       "      <td>delitos informaticos contra la fe publica</td>\n",
       "      <td>32</td>\n",
       "      <td>250101</td>\n",
       "      <td>ucayali</td>\n",
       "    </tr>\n",
       "    <tr>\n",
       "      <th>9031</th>\n",
       "      <td>2023</td>\n",
       "      <td>ley nº 30096, ley de delitos informaticos</td>\n",
       "      <td>disposiciones comunes</td>\n",
       "      <td>2</td>\n",
       "      <td>250101</td>\n",
       "      <td>ucayali</td>\n",
       "    </tr>\n",
       "  </tbody>\n",
       "</table>\n",
       "<p>48444 rows × 6 columns</p>\n",
       "</div>"
      ],
      "text/plain": [
       "      anio_denuncia                                   generico  \\\n",
       "0              2019                            contra el honor   \n",
       "1              2019                            contra el honor   \n",
       "2              2019                            contra el honor   \n",
       "3              2019                            contra el honor   \n",
       "4              2019                            contra el honor   \n",
       "...             ...                                        ...   \n",
       "9027           2023                        delitos tributarios   \n",
       "9028           2023      ley 26859, ley organica de elecciones   \n",
       "9029           2023  ley nº 30096, ley de delitos informaticos   \n",
       "9030           2023  ley nº 30096, ley de delitos informaticos   \n",
       "9031           2023  ley nº 30096, ley de delitos informaticos   \n",
       "\n",
       "                                            subgenerico  cantidad  \\\n",
       "0     contra el honor (sin especificar delito subgen...         4   \n",
       "1                         injuria,calumnia y difamacion         1   \n",
       "2                         injuria,calumnia y difamacion         2   \n",
       "3                         injuria,calumnia y difamacion        14   \n",
       "4                         injuria,calumnia y difamacion         1   \n",
       "...                                                 ...       ...   \n",
       "9027                                        contrabando         1   \n",
       "9028              delitos contra el derecho al sufragio         1   \n",
       "9029          delitos informaticos contra el patrimonio       223   \n",
       "9030          delitos informaticos contra la fe publica        32   \n",
       "9031                              disposiciones comunes         2   \n",
       "\n",
       "      ubigeo_pjfs dpto_pjfs  \n",
       "0           10101  amazonas  \n",
       "1           10101  amazonas  \n",
       "2           10101  amazonas  \n",
       "3           10101  amazonas  \n",
       "4           10101  amazonas  \n",
       "...           ...       ...  \n",
       "9027       250101   ucayali  \n",
       "9028       250101   ucayali  \n",
       "9029       250101   ucayali  \n",
       "9030       250101   ucayali  \n",
       "9031       250101   ucayali  \n",
       "\n",
       "[48444 rows x 6 columns]"
      ]
     },
     "execution_count": 7,
     "metadata": {},
     "output_type": "execute_result"
    }
   ],
   "source": [
    "dd[\"generico\"] = dd[\"generico\"].apply(lower_case)\n",
    "dd[\"subgenerico\"] = dd[\"subgenerico\"].apply(lower_case)\n",
    "dd[\"dpto_pjfs\"] = dd[\"dpto_pjfs\"].apply(lower_case)\n",
    "dd"
   ]
  },
  {
   "cell_type": "code",
   "execution_count": 8,
   "metadata": {},
   "outputs": [
    {
     "data": {
      "text/plain": [
       "anio_denuncia    0\n",
       "generico         0\n",
       "subgenerico      0\n",
       "cantidad         0\n",
       "ubigeo_pjfs      0\n",
       "dpto_pjfs        0\n",
       "dtype: int64"
      ]
     },
     "execution_count": 8,
     "metadata": {},
     "output_type": "execute_result"
    }
   ],
   "source": [
    "dd.isnull().sum()"
   ]
  },
  {
   "cell_type": "code",
   "execution_count": 9,
   "metadata": {},
   "outputs": [
    {
     "data": {
      "application/vnd.microsoft.datawrangler.viewer.v0+json": {
       "columns": [
        {
         "name": "index",
         "rawType": "int64",
         "type": "integer"
        },
        {
         "name": "anio_denuncia",
         "rawType": "int64",
         "type": "integer"
        },
        {
         "name": "generico",
         "rawType": "object",
         "type": "string"
        },
        {
         "name": "subgenerico",
         "rawType": "object",
         "type": "string"
        },
        {
         "name": "cantidad",
         "rawType": "int64",
         "type": "integer"
        },
        {
         "name": "ubigeo_pjfs",
         "rawType": "int64",
         "type": "integer"
        },
        {
         "name": "dpto_pjfs",
         "rawType": "object",
         "type": "string"
        }
       ],
       "conversionMethod": "pd.DataFrame",
       "ref": "f79a2f1d-1be6-48ad-9513-758ab7a4ca5d",
       "rows": [
        [
         "0",
         "2019",
         "contra el honor",
         "contra el honor (sin especificar delito subgenérico)",
         "4",
         "10101",
         "amazonas"
        ],
        [
         "1",
         "2019",
         "contra el honor",
         "injuria,calumnia y difamacion",
         "1",
         "10101",
         "amazonas"
        ],
        [
         "2",
         "2019",
         "contra el honor",
         "injuria,calumnia y difamacion",
         "2",
         "10101",
         "amazonas"
        ],
        [
         "3",
         "2019",
         "contra el honor",
         "injuria,calumnia y difamacion",
         "14",
         "10101",
         "amazonas"
        ],
        [
         "4",
         "2019",
         "contra el honor",
         "injuria,calumnia y difamacion",
         "1",
         "10101",
         "amazonas"
        ],
        [
         "5",
         "2019",
         "contra el orden economico",
         "acaparamiento, especulacion, adulteracion",
         "2",
         "10101",
         "amazonas"
        ],
        [
         "6",
         "2019",
         "contra el orden financiero y monetario",
         "contra el orden financiero y monetario (sin especificar delito subgenérico)",
         "2",
         "10101",
         "amazonas"
        ],
        [
         "7",
         "2019",
         "contra el orden financiero y monetario",
         "delitos monetarios",
         "11",
         "10101",
         "amazonas"
        ],
        [
         "8",
         "2019",
         "contra el orden financiero y monetario",
         "delitos monetarios",
         "2",
         "10101",
         "amazonas"
        ],
        [
         "9",
         "2019",
         "contra el patrimonio",
         "abigeato",
         "55",
         "10101",
         "amazonas"
        ],
        [
         "10",
         "2019",
         "contra el patrimonio",
         "abigeato",
         "1",
         "10101",
         "amazonas"
        ],
        [
         "11",
         "2019",
         "contra el patrimonio",
         "abigeato",
         "1",
         "10101",
         "amazonas"
        ],
        [
         "12",
         "2019",
         "contra el patrimonio",
         "abigeato",
         "15",
         "10101",
         "amazonas"
        ],
        [
         "13",
         "2019",
         "contra el patrimonio",
         "apropiacion ilicita",
         "44",
         "10101",
         "amazonas"
        ],
        [
         "14",
         "2019",
         "contra el patrimonio",
         "apropiacion ilicita",
         "1",
         "10101",
         "amazonas"
        ],
        [
         "15",
         "2019",
         "contra el patrimonio",
         "apropiacion ilicita",
         "4",
         "10101",
         "amazonas"
        ],
        [
         "16",
         "2019",
         "contra el patrimonio",
         "apropiacion ilicita",
         "1",
         "10101",
         "amazonas"
        ],
        [
         "17",
         "2019",
         "contra el patrimonio",
         "apropiacion ilicita",
         "46",
         "10101",
         "amazonas"
        ],
        [
         "18",
         "2019",
         "contra el patrimonio",
         "contra el patrimonio (sin especificar delito subgenérico)",
         "92",
         "10101",
         "amazonas"
        ],
        [
         "19",
         "2019",
         "contra el patrimonio",
         "daños",
         "121",
         "10101",
         "amazonas"
        ],
        [
         "20",
         "2019",
         "contra el patrimonio",
         "daños",
         "37",
         "10101",
         "amazonas"
        ],
        [
         "21",
         "2019",
         "contra el patrimonio",
         "daños",
         "2",
         "10101",
         "amazonas"
        ],
        [
         "22",
         "2019",
         "contra el patrimonio",
         "daños",
         "272",
         "10101",
         "amazonas"
        ],
        [
         "23",
         "2019",
         "contra el patrimonio",
         "estafa y otras defraudaciones",
         "105",
         "10101",
         "amazonas"
        ],
        [
         "24",
         "2019",
         "contra el patrimonio",
         "estafa y otras defraudaciones",
         "7",
         "10101",
         "amazonas"
        ],
        [
         "25",
         "2019",
         "contra el patrimonio",
         "estafa y otras defraudaciones",
         "4",
         "10101",
         "amazonas"
        ],
        [
         "26",
         "2019",
         "contra el patrimonio",
         "estafa y otras defraudaciones",
         "5",
         "10101",
         "amazonas"
        ],
        [
         "27",
         "2019",
         "contra el patrimonio",
         "extorsion",
         "13",
         "10101",
         "amazonas"
        ],
        [
         "28",
         "2019",
         "contra el patrimonio",
         "extorsion",
         "1",
         "10101",
         "amazonas"
        ],
        [
         "29",
         "2019",
         "contra el patrimonio",
         "extorsion",
         "1",
         "10101",
         "amazonas"
        ],
        [
         "30",
         "2019",
         "contra el patrimonio",
         "hurto",
         "209",
         "10101",
         "amazonas"
        ],
        [
         "31",
         "2019",
         "contra el patrimonio",
         "hurto",
         "456",
         "10101",
         "amazonas"
        ],
        [
         "32",
         "2019",
         "contra el patrimonio",
         "hurto",
         "671",
         "10101",
         "amazonas"
        ],
        [
         "33",
         "2019",
         "contra el patrimonio",
         "receptacion",
         "33",
         "10101",
         "amazonas"
        ],
        [
         "34",
         "2019",
         "contra el patrimonio",
         "receptacion",
         "4",
         "10101",
         "amazonas"
        ],
        [
         "35",
         "2019",
         "contra el patrimonio",
         "receptacion",
         "15",
         "10101",
         "amazonas"
        ],
        [
         "36",
         "2019",
         "contra el patrimonio",
         "robo",
         "20",
         "10101",
         "amazonas"
        ],
        [
         "37",
         "2019",
         "contra el patrimonio",
         "robo",
         "119",
         "10101",
         "amazonas"
        ],
        [
         "38",
         "2019",
         "contra el patrimonio",
         "robo",
         "44",
         "10101",
         "amazonas"
        ],
        [
         "39",
         "2019",
         "contra el patrimonio",
         "usurpacion",
         "99",
         "10101",
         "amazonas"
        ],
        [
         "40",
         "2019",
         "contra el patrimonio",
         "usurpacion",
         "2",
         "10101",
         "amazonas"
        ],
        [
         "41",
         "2019",
         "contra el patrimonio",
         "usurpacion",
         "26",
         "10101",
         "amazonas"
        ],
        [
         "42",
         "2019",
         "contra el patrimonio",
         "usurpacion",
         "130",
         "10101",
         "amazonas"
        ],
        [
         "43",
         "2019",
         "contra el patrimonio cultural",
         "contra los bienes culturales",
         "1",
         "10101",
         "amazonas"
        ],
        [
         "44",
         "2019",
         "contra la administracion publica",
         "delitos cometidos por funcionarios publicos",
         "73",
         "10101",
         "amazonas"
        ],
        [
         "45",
         "2019",
         "contra la administracion publica",
         "delitos cometidos por funcionarios publicos",
         "65",
         "10101",
         "amazonas"
        ],
        [
         "46",
         "2019",
         "contra la administracion publica",
         "delitos cometidos por funcionarios publicos",
         "1",
         "10101",
         "amazonas"
        ],
        [
         "47",
         "2019",
         "contra la administracion publica",
         "delitos cometidos por funcionarios publicos",
         "7",
         "10101",
         "amazonas"
        ],
        [
         "48",
         "2019",
         "contra la administracion publica",
         "delitos cometidos por funcionarios publicos",
         "1",
         "10101",
         "amazonas"
        ],
        [
         "49",
         "2019",
         "contra la administracion publica",
         "delitos cometidos por funcionarios publicos",
         "12",
         "10101",
         "amazonas"
        ]
       ],
       "shape": {
        "columns": 6,
        "rows": 48386
       }
      },
      "text/html": [
       "<div>\n",
       "<style scoped>\n",
       "    .dataframe tbody tr th:only-of-type {\n",
       "        vertical-align: middle;\n",
       "    }\n",
       "\n",
       "    .dataframe tbody tr th {\n",
       "        vertical-align: top;\n",
       "    }\n",
       "\n",
       "    .dataframe thead th {\n",
       "        text-align: right;\n",
       "    }\n",
       "</style>\n",
       "<table border=\"1\" class=\"dataframe\">\n",
       "  <thead>\n",
       "    <tr style=\"text-align: right;\">\n",
       "      <th></th>\n",
       "      <th>anio_denuncia</th>\n",
       "      <th>generico</th>\n",
       "      <th>subgenerico</th>\n",
       "      <th>cantidad</th>\n",
       "      <th>ubigeo_pjfs</th>\n",
       "      <th>dpto_pjfs</th>\n",
       "    </tr>\n",
       "  </thead>\n",
       "  <tbody>\n",
       "    <tr>\n",
       "      <th>0</th>\n",
       "      <td>2019</td>\n",
       "      <td>contra el honor</td>\n",
       "      <td>contra el honor (sin especificar delito subgen...</td>\n",
       "      <td>4</td>\n",
       "      <td>10101</td>\n",
       "      <td>amazonas</td>\n",
       "    </tr>\n",
       "    <tr>\n",
       "      <th>1</th>\n",
       "      <td>2019</td>\n",
       "      <td>contra el honor</td>\n",
       "      <td>injuria,calumnia y difamacion</td>\n",
       "      <td>1</td>\n",
       "      <td>10101</td>\n",
       "      <td>amazonas</td>\n",
       "    </tr>\n",
       "    <tr>\n",
       "      <th>2</th>\n",
       "      <td>2019</td>\n",
       "      <td>contra el honor</td>\n",
       "      <td>injuria,calumnia y difamacion</td>\n",
       "      <td>2</td>\n",
       "      <td>10101</td>\n",
       "      <td>amazonas</td>\n",
       "    </tr>\n",
       "    <tr>\n",
       "      <th>3</th>\n",
       "      <td>2019</td>\n",
       "      <td>contra el honor</td>\n",
       "      <td>injuria,calumnia y difamacion</td>\n",
       "      <td>14</td>\n",
       "      <td>10101</td>\n",
       "      <td>amazonas</td>\n",
       "    </tr>\n",
       "    <tr>\n",
       "      <th>4</th>\n",
       "      <td>2019</td>\n",
       "      <td>contra el honor</td>\n",
       "      <td>injuria,calumnia y difamacion</td>\n",
       "      <td>1</td>\n",
       "      <td>10101</td>\n",
       "      <td>amazonas</td>\n",
       "    </tr>\n",
       "    <tr>\n",
       "      <th>...</th>\n",
       "      <td>...</td>\n",
       "      <td>...</td>\n",
       "      <td>...</td>\n",
       "      <td>...</td>\n",
       "      <td>...</td>\n",
       "      <td>...</td>\n",
       "    </tr>\n",
       "    <tr>\n",
       "      <th>9027</th>\n",
       "      <td>2023</td>\n",
       "      <td>delitos tributarios</td>\n",
       "      <td>contrabando</td>\n",
       "      <td>1</td>\n",
       "      <td>250101</td>\n",
       "      <td>ucayali</td>\n",
       "    </tr>\n",
       "    <tr>\n",
       "      <th>9028</th>\n",
       "      <td>2023</td>\n",
       "      <td>ley 26859, ley organica de elecciones</td>\n",
       "      <td>delitos contra el derecho al sufragio</td>\n",
       "      <td>1</td>\n",
       "      <td>250101</td>\n",
       "      <td>ucayali</td>\n",
       "    </tr>\n",
       "    <tr>\n",
       "      <th>9029</th>\n",
       "      <td>2023</td>\n",
       "      <td>ley nº 30096, ley de delitos informaticos</td>\n",
       "      <td>delitos informaticos contra el patrimonio</td>\n",
       "      <td>223</td>\n",
       "      <td>250101</td>\n",
       "      <td>ucayali</td>\n",
       "    </tr>\n",
       "    <tr>\n",
       "      <th>9030</th>\n",
       "      <td>2023</td>\n",
       "      <td>ley nº 30096, ley de delitos informaticos</td>\n",
       "      <td>delitos informaticos contra la fe publica</td>\n",
       "      <td>32</td>\n",
       "      <td>250101</td>\n",
       "      <td>ucayali</td>\n",
       "    </tr>\n",
       "    <tr>\n",
       "      <th>9031</th>\n",
       "      <td>2023</td>\n",
       "      <td>ley nº 30096, ley de delitos informaticos</td>\n",
       "      <td>disposiciones comunes</td>\n",
       "      <td>2</td>\n",
       "      <td>250101</td>\n",
       "      <td>ucayali</td>\n",
       "    </tr>\n",
       "  </tbody>\n",
       "</table>\n",
       "<p>48386 rows × 6 columns</p>\n",
       "</div>"
      ],
      "text/plain": [
       "      anio_denuncia                                   generico  \\\n",
       "0              2019                            contra el honor   \n",
       "1              2019                            contra el honor   \n",
       "2              2019                            contra el honor   \n",
       "3              2019                            contra el honor   \n",
       "4              2019                            contra el honor   \n",
       "...             ...                                        ...   \n",
       "9027           2023                        delitos tributarios   \n",
       "9028           2023      ley 26859, ley organica de elecciones   \n",
       "9029           2023  ley nº 30096, ley de delitos informaticos   \n",
       "9030           2023  ley nº 30096, ley de delitos informaticos   \n",
       "9031           2023  ley nº 30096, ley de delitos informaticos   \n",
       "\n",
       "                                            subgenerico  cantidad  \\\n",
       "0     contra el honor (sin especificar delito subgen...         4   \n",
       "1                         injuria,calumnia y difamacion         1   \n",
       "2                         injuria,calumnia y difamacion         2   \n",
       "3                         injuria,calumnia y difamacion        14   \n",
       "4                         injuria,calumnia y difamacion         1   \n",
       "...                                                 ...       ...   \n",
       "9027                                        contrabando         1   \n",
       "9028              delitos contra el derecho al sufragio         1   \n",
       "9029          delitos informaticos contra el patrimonio       223   \n",
       "9030          delitos informaticos contra la fe publica        32   \n",
       "9031                              disposiciones comunes         2   \n",
       "\n",
       "      ubigeo_pjfs dpto_pjfs  \n",
       "0           10101  amazonas  \n",
       "1           10101  amazonas  \n",
       "2           10101  amazonas  \n",
       "3           10101  amazonas  \n",
       "4           10101  amazonas  \n",
       "...           ...       ...  \n",
       "9027       250101   ucayali  \n",
       "9028       250101   ucayali  \n",
       "9029       250101   ucayali  \n",
       "9030       250101   ucayali  \n",
       "9031       250101   ucayali  \n",
       "\n",
       "[48386 rows x 6 columns]"
      ]
     },
     "execution_count": 9,
     "metadata": {},
     "output_type": "execute_result"
    }
   ],
   "source": [
    "#elimninar las filas que tienen en la columna generico la palabra \"no tipificados\" y \"tentativa\"\n",
    "dd = dd[~dd['generico'].str.contains(\"no tipificados\")]\n",
    "dd = dd[~dd['generico'].str.contains(\"tentativa\")]\n",
    "\n",
    "# # eliminar las filas que tienen en la columna subgenerico la palabra \"no tipificados\" y \"tentativa\" -> son 22 filas\n",
    "# dd = dd[~dd['subgenerico'].str.contains(\"no tipificados\")]\n",
    "# dd = dd[~dd['subgenerico'].str.contains(\"tentativa\")]\n",
    "dd"
   ]
  },
  {
   "cell_type": "code",
   "execution_count": 10,
   "metadata": {},
   "outputs": [
    {
     "name": "stdout",
     "output_type": "stream",
     "text": [
      "491\n"
     ]
    }
   ],
   "source": [
    "# imprime la cantidad de rows con el subgenerico de disposiciones comunes\n",
    "print(dd[dd[\"subgenerico\"] == \"disposiciones comunes\"].shape[0])"
   ]
  },
  {
   "cell_type": "code",
   "execution_count": 11,
   "metadata": {},
   "outputs": [
    {
     "data": {
      "application/vnd.microsoft.datawrangler.viewer.v0+json": {
       "columns": [
        {
         "name": "index",
         "rawType": "int64",
         "type": "integer"
        },
        {
         "name": "anio_denuncia",
         "rawType": "int64",
         "type": "integer"
        },
        {
         "name": "generico",
         "rawType": "object",
         "type": "string"
        },
        {
         "name": "subgenerico",
         "rawType": "object",
         "type": "string"
        },
        {
         "name": "cantidad",
         "rawType": "int64",
         "type": "integer"
        },
        {
         "name": "ubigeo_pjfs",
         "rawType": "int64",
         "type": "integer"
        },
        {
         "name": "dpto_pjfs",
         "rawType": "object",
         "type": "string"
        }
       ],
       "conversionMethod": "pd.DataFrame",
       "ref": "2224076a-c97f-4d1a-ba7c-874b35cc6ce2",
       "rows": [
        [
         "0",
         "2019",
         "contra el honor",
         "contra el honor (sin especificar delito subgenérico)",
         "4",
         "10101",
         "amazonas"
        ],
        [
         "1",
         "2019",
         "contra el honor",
         "injuria,calumnia y difamacion",
         "1",
         "10101",
         "amazonas"
        ],
        [
         "2",
         "2019",
         "contra el honor",
         "injuria,calumnia y difamacion",
         "2",
         "10101",
         "amazonas"
        ],
        [
         "3",
         "2019",
         "contra el honor",
         "injuria,calumnia y difamacion",
         "14",
         "10101",
         "amazonas"
        ],
        [
         "4",
         "2019",
         "contra el honor",
         "injuria,calumnia y difamacion",
         "1",
         "10101",
         "amazonas"
        ],
        [
         "5",
         "2019",
         "contra el orden economico",
         "acaparamiento, especulacion, adulteracion",
         "2",
         "10101",
         "amazonas"
        ],
        [
         "6",
         "2019",
         "contra el orden financiero y monetario",
         "contra el orden financiero y monetario (sin especificar delito subgenérico)",
         "2",
         "10101",
         "amazonas"
        ],
        [
         "7",
         "2019",
         "contra el orden financiero y monetario",
         "delitos monetarios",
         "11",
         "10101",
         "amazonas"
        ],
        [
         "8",
         "2019",
         "contra el orden financiero y monetario",
         "delitos monetarios",
         "2",
         "10101",
         "amazonas"
        ],
        [
         "9",
         "2019",
         "contra el patrimonio",
         "abigeato",
         "55",
         "10101",
         "amazonas"
        ],
        [
         "10",
         "2019",
         "contra el patrimonio",
         "abigeato",
         "1",
         "10101",
         "amazonas"
        ],
        [
         "11",
         "2019",
         "contra el patrimonio",
         "abigeato",
         "1",
         "10101",
         "amazonas"
        ],
        [
         "12",
         "2019",
         "contra el patrimonio",
         "abigeato",
         "15",
         "10101",
         "amazonas"
        ],
        [
         "13",
         "2019",
         "contra el patrimonio",
         "apropiacion ilicita",
         "44",
         "10101",
         "amazonas"
        ],
        [
         "14",
         "2019",
         "contra el patrimonio",
         "apropiacion ilicita",
         "1",
         "10101",
         "amazonas"
        ],
        [
         "15",
         "2019",
         "contra el patrimonio",
         "apropiacion ilicita",
         "4",
         "10101",
         "amazonas"
        ],
        [
         "16",
         "2019",
         "contra el patrimonio",
         "apropiacion ilicita",
         "1",
         "10101",
         "amazonas"
        ],
        [
         "17",
         "2019",
         "contra el patrimonio",
         "apropiacion ilicita",
         "46",
         "10101",
         "amazonas"
        ],
        [
         "18",
         "2019",
         "contra el patrimonio",
         "contra el patrimonio (sin especificar delito subgenérico)",
         "92",
         "10101",
         "amazonas"
        ],
        [
         "19",
         "2019",
         "contra el patrimonio",
         "daños",
         "121",
         "10101",
         "amazonas"
        ],
        [
         "20",
         "2019",
         "contra el patrimonio",
         "daños",
         "37",
         "10101",
         "amazonas"
        ],
        [
         "21",
         "2019",
         "contra el patrimonio",
         "daños",
         "2",
         "10101",
         "amazonas"
        ],
        [
         "22",
         "2019",
         "contra el patrimonio",
         "daños",
         "272",
         "10101",
         "amazonas"
        ],
        [
         "23",
         "2019",
         "contra el patrimonio",
         "estafa y otras defraudaciones",
         "105",
         "10101",
         "amazonas"
        ],
        [
         "24",
         "2019",
         "contra el patrimonio",
         "estafa y otras defraudaciones",
         "7",
         "10101",
         "amazonas"
        ],
        [
         "25",
         "2019",
         "contra el patrimonio",
         "estafa y otras defraudaciones",
         "4",
         "10101",
         "amazonas"
        ],
        [
         "26",
         "2019",
         "contra el patrimonio",
         "estafa y otras defraudaciones",
         "5",
         "10101",
         "amazonas"
        ],
        [
         "27",
         "2019",
         "contra el patrimonio",
         "extorsion",
         "13",
         "10101",
         "amazonas"
        ],
        [
         "28",
         "2019",
         "contra el patrimonio",
         "extorsion",
         "1",
         "10101",
         "amazonas"
        ],
        [
         "29",
         "2019",
         "contra el patrimonio",
         "extorsion",
         "1",
         "10101",
         "amazonas"
        ],
        [
         "30",
         "2019",
         "contra el patrimonio",
         "hurto",
         "209",
         "10101",
         "amazonas"
        ],
        [
         "31",
         "2019",
         "contra el patrimonio",
         "hurto",
         "456",
         "10101",
         "amazonas"
        ],
        [
         "32",
         "2019",
         "contra el patrimonio",
         "hurto",
         "671",
         "10101",
         "amazonas"
        ],
        [
         "33",
         "2019",
         "contra el patrimonio",
         "receptacion",
         "33",
         "10101",
         "amazonas"
        ],
        [
         "34",
         "2019",
         "contra el patrimonio",
         "receptacion",
         "4",
         "10101",
         "amazonas"
        ],
        [
         "35",
         "2019",
         "contra el patrimonio",
         "receptacion",
         "15",
         "10101",
         "amazonas"
        ],
        [
         "36",
         "2019",
         "contra el patrimonio",
         "robo",
         "20",
         "10101",
         "amazonas"
        ],
        [
         "37",
         "2019",
         "contra el patrimonio",
         "robo",
         "119",
         "10101",
         "amazonas"
        ],
        [
         "38",
         "2019",
         "contra el patrimonio",
         "robo",
         "44",
         "10101",
         "amazonas"
        ],
        [
         "39",
         "2019",
         "contra el patrimonio",
         "usurpacion",
         "99",
         "10101",
         "amazonas"
        ],
        [
         "40",
         "2019",
         "contra el patrimonio",
         "usurpacion",
         "2",
         "10101",
         "amazonas"
        ],
        [
         "41",
         "2019",
         "contra el patrimonio",
         "usurpacion",
         "26",
         "10101",
         "amazonas"
        ],
        [
         "42",
         "2019",
         "contra el patrimonio",
         "usurpacion",
         "130",
         "10101",
         "amazonas"
        ],
        [
         "43",
         "2019",
         "contra el patrimonio cultural",
         "contra los bienes culturales",
         "1",
         "10101",
         "amazonas"
        ],
        [
         "44",
         "2019",
         "contra la administracion publica",
         "delitos cometidos por funcionarios publicos",
         "73",
         "10101",
         "amazonas"
        ],
        [
         "45",
         "2019",
         "contra la administracion publica",
         "delitos cometidos por funcionarios publicos",
         "65",
         "10101",
         "amazonas"
        ],
        [
         "46",
         "2019",
         "contra la administracion publica",
         "delitos cometidos por funcionarios publicos",
         "1",
         "10101",
         "amazonas"
        ],
        [
         "47",
         "2019",
         "contra la administracion publica",
         "delitos cometidos por funcionarios publicos",
         "7",
         "10101",
         "amazonas"
        ],
        [
         "48",
         "2019",
         "contra la administracion publica",
         "delitos cometidos por funcionarios publicos",
         "1",
         "10101",
         "amazonas"
        ],
        [
         "49",
         "2019",
         "contra la administracion publica",
         "delitos cometidos por funcionarios publicos",
         "12",
         "10101",
         "amazonas"
        ]
       ],
       "shape": {
        "columns": 6,
        "rows": 47895
       }
      },
      "text/html": [
       "<div>\n",
       "<style scoped>\n",
       "    .dataframe tbody tr th:only-of-type {\n",
       "        vertical-align: middle;\n",
       "    }\n",
       "\n",
       "    .dataframe tbody tr th {\n",
       "        vertical-align: top;\n",
       "    }\n",
       "\n",
       "    .dataframe thead th {\n",
       "        text-align: right;\n",
       "    }\n",
       "</style>\n",
       "<table border=\"1\" class=\"dataframe\">\n",
       "  <thead>\n",
       "    <tr style=\"text-align: right;\">\n",
       "      <th></th>\n",
       "      <th>anio_denuncia</th>\n",
       "      <th>generico</th>\n",
       "      <th>subgenerico</th>\n",
       "      <th>cantidad</th>\n",
       "      <th>ubigeo_pjfs</th>\n",
       "      <th>dpto_pjfs</th>\n",
       "    </tr>\n",
       "  </thead>\n",
       "  <tbody>\n",
       "    <tr>\n",
       "      <th>0</th>\n",
       "      <td>2019</td>\n",
       "      <td>contra el honor</td>\n",
       "      <td>contra el honor (sin especificar delito subgen...</td>\n",
       "      <td>4</td>\n",
       "      <td>10101</td>\n",
       "      <td>amazonas</td>\n",
       "    </tr>\n",
       "    <tr>\n",
       "      <th>1</th>\n",
       "      <td>2019</td>\n",
       "      <td>contra el honor</td>\n",
       "      <td>injuria,calumnia y difamacion</td>\n",
       "      <td>1</td>\n",
       "      <td>10101</td>\n",
       "      <td>amazonas</td>\n",
       "    </tr>\n",
       "    <tr>\n",
       "      <th>2</th>\n",
       "      <td>2019</td>\n",
       "      <td>contra el honor</td>\n",
       "      <td>injuria,calumnia y difamacion</td>\n",
       "      <td>2</td>\n",
       "      <td>10101</td>\n",
       "      <td>amazonas</td>\n",
       "    </tr>\n",
       "    <tr>\n",
       "      <th>3</th>\n",
       "      <td>2019</td>\n",
       "      <td>contra el honor</td>\n",
       "      <td>injuria,calumnia y difamacion</td>\n",
       "      <td>14</td>\n",
       "      <td>10101</td>\n",
       "      <td>amazonas</td>\n",
       "    </tr>\n",
       "    <tr>\n",
       "      <th>4</th>\n",
       "      <td>2019</td>\n",
       "      <td>contra el honor</td>\n",
       "      <td>injuria,calumnia y difamacion</td>\n",
       "      <td>1</td>\n",
       "      <td>10101</td>\n",
       "      <td>amazonas</td>\n",
       "    </tr>\n",
       "    <tr>\n",
       "      <th>...</th>\n",
       "      <td>...</td>\n",
       "      <td>...</td>\n",
       "      <td>...</td>\n",
       "      <td>...</td>\n",
       "      <td>...</td>\n",
       "      <td>...</td>\n",
       "    </tr>\n",
       "    <tr>\n",
       "      <th>9026</th>\n",
       "      <td>2023</td>\n",
       "      <td>delitos ambientales</td>\n",
       "      <td>responsabilidad funcional e información falsa</td>\n",
       "      <td>6</td>\n",
       "      <td>250101</td>\n",
       "      <td>ucayali</td>\n",
       "    </tr>\n",
       "    <tr>\n",
       "      <th>9027</th>\n",
       "      <td>2023</td>\n",
       "      <td>delitos tributarios</td>\n",
       "      <td>contrabando</td>\n",
       "      <td>1</td>\n",
       "      <td>250101</td>\n",
       "      <td>ucayali</td>\n",
       "    </tr>\n",
       "    <tr>\n",
       "      <th>9028</th>\n",
       "      <td>2023</td>\n",
       "      <td>ley 26859, ley organica de elecciones</td>\n",
       "      <td>delitos contra el derecho al sufragio</td>\n",
       "      <td>1</td>\n",
       "      <td>250101</td>\n",
       "      <td>ucayali</td>\n",
       "    </tr>\n",
       "    <tr>\n",
       "      <th>9029</th>\n",
       "      <td>2023</td>\n",
       "      <td>ley nº 30096, ley de delitos informaticos</td>\n",
       "      <td>delitos informaticos contra el patrimonio</td>\n",
       "      <td>223</td>\n",
       "      <td>250101</td>\n",
       "      <td>ucayali</td>\n",
       "    </tr>\n",
       "    <tr>\n",
       "      <th>9030</th>\n",
       "      <td>2023</td>\n",
       "      <td>ley nº 30096, ley de delitos informaticos</td>\n",
       "      <td>delitos informaticos contra la fe publica</td>\n",
       "      <td>32</td>\n",
       "      <td>250101</td>\n",
       "      <td>ucayali</td>\n",
       "    </tr>\n",
       "  </tbody>\n",
       "</table>\n",
       "<p>47895 rows × 6 columns</p>\n",
       "</div>"
      ],
      "text/plain": [
       "      anio_denuncia                                   generico  \\\n",
       "0              2019                            contra el honor   \n",
       "1              2019                            contra el honor   \n",
       "2              2019                            contra el honor   \n",
       "3              2019                            contra el honor   \n",
       "4              2019                            contra el honor   \n",
       "...             ...                                        ...   \n",
       "9026           2023                        delitos ambientales   \n",
       "9027           2023                        delitos tributarios   \n",
       "9028           2023      ley 26859, ley organica de elecciones   \n",
       "9029           2023  ley nº 30096, ley de delitos informaticos   \n",
       "9030           2023  ley nº 30096, ley de delitos informaticos   \n",
       "\n",
       "                                            subgenerico  cantidad  \\\n",
       "0     contra el honor (sin especificar delito subgen...         4   \n",
       "1                         injuria,calumnia y difamacion         1   \n",
       "2                         injuria,calumnia y difamacion         2   \n",
       "3                         injuria,calumnia y difamacion        14   \n",
       "4                         injuria,calumnia y difamacion         1   \n",
       "...                                                 ...       ...   \n",
       "9026      responsabilidad funcional e información falsa         6   \n",
       "9027                                        contrabando         1   \n",
       "9028              delitos contra el derecho al sufragio         1   \n",
       "9029          delitos informaticos contra el patrimonio       223   \n",
       "9030          delitos informaticos contra la fe publica        32   \n",
       "\n",
       "      ubigeo_pjfs dpto_pjfs  \n",
       "0           10101  amazonas  \n",
       "1           10101  amazonas  \n",
       "2           10101  amazonas  \n",
       "3           10101  amazonas  \n",
       "4           10101  amazonas  \n",
       "...           ...       ...  \n",
       "9026       250101   ucayali  \n",
       "9027       250101   ucayali  \n",
       "9028       250101   ucayali  \n",
       "9029       250101   ucayali  \n",
       "9030       250101   ucayali  \n",
       "\n",
       "[47895 rows x 6 columns]"
      ]
     },
     "execution_count": 11,
     "metadata": {},
     "output_type": "execute_result"
    }
   ],
   "source": [
    "# eliminar los rows con el subgenerico de disposiciones comunes porque no son delitos, sino reglas aplicables\n",
    "dd = dd[~dd[\"subgenerico\"].str.contains(\"disposiciones comunes\", case=False)]\n",
    "dd"
   ]
  },
  {
   "cell_type": "markdown",
   "metadata": {},
   "source": [
    "# Transformación"
   ]
  },
  {
   "cell_type": "code",
   "execution_count": 12,
   "metadata": {},
   "outputs": [
    {
     "data": {
      "text/plain": [
       "array(['contra el honor', 'contra el orden economico',\n",
       "       'contra el orden financiero y monetario', 'contra el patrimonio',\n",
       "       'contra el patrimonio cultural',\n",
       "       'contra la administracion publica',\n",
       "       'contra la conf.y.la.buen.fe.en.negocios', 'contra la familia',\n",
       "       'contra la fe publica', 'contra la humanidad',\n",
       "       'contra la libertad', 'contra la seguridad publica',\n",
       "       'contra la tranquilidad publica',\n",
       "       'contra la vida/el cuerpo y la salud',\n",
       "       'contra la voluntad popular', 'contra los derechos intelectuales',\n",
       "       'contra los poderes del estado y orden constitucional',\n",
       "       'd.leg 813. ley penal tributaria', 'd.leg. 1106 lavado de activos',\n",
       "       'delitos aduaneros (ley 28008)', 'delitos ambientales',\n",
       "       'delitos tributarios', 'ley 26859, ley organica de elecciones',\n",
       "       'ley nº 30096, ley de delitos informaticos',\n",
       "       'contra el estado y la defensa nacional',\n",
       "       'contra la dignidad humana'], dtype=object)"
      ]
     },
     "execution_count": 12,
     "metadata": {},
     "output_type": "execute_result"
    }
   ],
   "source": [
    "#imprime todos los genericos \n",
    "dd[\"generico\"].unique()"
   ]
  },
  {
   "cell_type": "markdown",
   "metadata": {},
   "source": [
    "## d. ley penal tributaria"
   ]
  },
  {
   "cell_type": "code",
   "execution_count": 13,
   "metadata": {},
   "outputs": [
    {
     "data": {
      "application/vnd.microsoft.datawrangler.viewer.v0+json": {
       "columns": [
        {
         "name": "index",
         "rawType": "int64",
         "type": "integer"
        },
        {
         "name": "anio_denuncia",
         "rawType": "int64",
         "type": "integer"
        },
        {
         "name": "generico",
         "rawType": "object",
         "type": "string"
        },
        {
         "name": "subgenerico",
         "rawType": "object",
         "type": "string"
        },
        {
         "name": "cantidad",
         "rawType": "int64",
         "type": "integer"
        },
        {
         "name": "ubigeo_pjfs",
         "rawType": "int64",
         "type": "integer"
        },
        {
         "name": "dpto_pjfs",
         "rawType": "object",
         "type": "string"
        }
       ],
       "conversionMethod": "pd.DataFrame",
       "ref": "8b08dabf-970a-40c6-b01a-f30ab49edd61",
       "rows": [
        [
         "208",
         "2019",
         "d.leg 813. ley penal tributaria",
         "defraudacion tributaria",
         "1",
         "10101",
         "amazonas"
        ],
        [
         "479",
         "2019",
         "d.leg 813. ley penal tributaria",
         "defraudacion tributaria",
         "1",
         "20101",
         "ancash"
        ],
        [
         "1044",
         "2019",
         "d.leg 813. ley penal tributaria",
         "d.leg 813. ley penal tributaria (sin especificar delito subgenérico)",
         "3",
         "40101",
         "arequipa"
        ],
        [
         "1045",
         "2019",
         "d.leg 813. ley penal tributaria",
         "defraudacion tributaria",
         "1",
         "40101",
         "arequipa"
        ],
        [
         "1046",
         "2019",
         "d.leg 813. ley penal tributaria",
         "defraudacion tributaria",
         "5",
         "40101",
         "arequipa"
        ],
        [
         "1350",
         "2019",
         "d.leg 813. ley penal tributaria",
         "d.leg 813. ley penal tributaria (sin especificar delito subgenérico)",
         "4",
         "50110",
         "ayacucho"
        ],
        [
         "1351",
         "2019",
         "d.leg 813. ley penal tributaria",
         "defraudacion tributaria",
         "6",
         "50110",
         "ayacucho"
        ],
        [
         "1629",
         "2019",
         "d.leg 813. ley penal tributaria",
         "d.leg 813. ley penal tributaria (sin especificar delito subgenérico)",
         "2",
         "60101",
         "cajamarca"
        ],
        [
         "1904",
         "2019",
         "d.leg 813. ley penal tributaria",
         "defraudacion tributaria",
         "2",
         "70101",
         "callao"
        ],
        [
         "2153",
         "2019",
         "d.leg 813. ley penal tributaria",
         "d.leg 813. ley penal tributaria (sin especificar delito subgenérico)",
         "1",
         "150501",
         "lima"
        ],
        [
         "2457",
         "2019",
         "d.leg 813. ley penal tributaria",
         "d.leg 813. ley penal tributaria (sin especificar delito subgenérico)",
         "1",
         "80108",
         "cusco"
        ],
        [
         "2458",
         "2019",
         "d.leg 813. ley penal tributaria",
         "defraudacion tributaria",
         "1",
         "80108",
         "cusco"
        ],
        [
         "2459",
         "2019",
         "d.leg 813. ley penal tributaria",
         "defraudacion tributaria",
         "3",
         "80108",
         "cusco"
        ],
        [
         "2946",
         "2019",
         "d.leg 813. ley penal tributaria",
         "d.leg 813. ley penal tributaria (sin especificar delito subgenérico)",
         "4",
         "100101",
         "huanuco"
        ],
        [
         "2947",
         "2019",
         "d.leg 813. ley penal tributaria",
         "defraudacion tributaria",
         "1",
         "100101",
         "huanuco"
        ],
        [
         "3208",
         "2019",
         "d.leg 813. ley penal tributaria",
         "d.leg 813. ley penal tributaria (sin especificar delito subgenérico)",
         "1",
         "150801",
         "lima"
        ],
        [
         "3209",
         "2019",
         "d.leg 813. ley penal tributaria",
         "defraudacion tributaria",
         "3",
         "150801",
         "lima"
        ],
        [
         "3479",
         "2019",
         "d.leg 813. ley penal tributaria",
         "defraudacion tributaria",
         "2",
         "110101",
         "ica"
        ],
        [
         "3777",
         "2019",
         "d.leg 813. ley penal tributaria",
         "defraudacion tributaria",
         "1",
         "120114",
         "junin"
        ],
        [
         "3778",
         "2019",
         "d.leg 813. ley penal tributaria",
         "defraudacion tributaria",
         "1",
         "120114",
         "junin"
        ],
        [
         "3779",
         "2019",
         "d.leg 813. ley penal tributaria",
         "defraudacion tributaria",
         "2",
         "120114",
         "junin"
        ],
        [
         "4072",
         "2019",
         "d.leg 813. ley penal tributaria",
         "d.leg 813. ley penal tributaria (sin especificar delito subgenérico)",
         "1",
         "130101",
         "la libertad"
        ],
        [
         "4073",
         "2019",
         "d.leg 813. ley penal tributaria",
         "defraudacion tributaria",
         "1",
         "130101",
         "la libertad"
        ],
        [
         "4074",
         "2019",
         "d.leg 813. ley penal tributaria",
         "defraudacion tributaria",
         "1",
         "130101",
         "la libertad"
        ],
        [
         "4075",
         "2019",
         "d.leg 813. ley penal tributaria",
         "defraudacion tributaria",
         "4",
         "130101",
         "la libertad"
        ],
        [
         "4392",
         "2019",
         "d.leg 813. ley penal tributaria",
         "defraudacion tributaria",
         "1",
         "140101",
         "lambayeque"
        ],
        [
         "4393",
         "2019",
         "d.leg 813. ley penal tributaria",
         "defraudacion tributaria",
         "6",
         "140101",
         "lambayeque"
        ],
        [
         "4846",
         "2019",
         "d.leg 813. ley penal tributaria",
         "d.leg 813. ley penal tributaria (sin especificar delito subgenérico)",
         "1",
         "150101",
         "lima"
        ],
        [
         "4847",
         "2019",
         "d.leg 813. ley penal tributaria",
         "defraudacion tributaria",
         "3",
         "150101",
         "lima"
        ],
        [
         "4848",
         "2019",
         "d.leg 813. ley penal tributaria",
         "defraudacion tributaria",
         "1",
         "150101",
         "lima"
        ],
        [
         "4849",
         "2019",
         "d.leg 813. ley penal tributaria",
         "defraudacion tributaria",
         "1",
         "150101",
         "lima"
        ],
        [
         "4850",
         "2019",
         "d.leg 813. ley penal tributaria",
         "defraudacion tributaria",
         "102",
         "150101",
         "lima"
        ],
        [
         "5194",
         "2019",
         "d.leg 813. ley penal tributaria",
         "defraudacion tributaria",
         "1",
         "150137",
         "lima"
        ],
        [
         "5461",
         "2019",
         "d.leg 813. ley penal tributaria",
         "defraudacion tributaria",
         "1",
         "70106",
         "callao"
        ],
        [
         "5462",
         "2019",
         "d.leg 813. ley penal tributaria",
         "defraudacion tributaria",
         "1",
         "70106",
         "callao"
        ],
        [
         "5784",
         "2019",
         "d.leg 813. ley penal tributaria",
         "defraudacion tributaria",
         "1",
         "150112",
         "lima"
        ],
        [
         "5785",
         "2019",
         "d.leg 813. ley penal tributaria",
         "defraudacion tributaria",
         "3",
         "150112",
         "lima"
        ],
        [
         "6377",
         "2019",
         "d.leg 813. ley penal tributaria",
         "defraudacion tributaria",
         "1",
         "160101",
         "loreto"
        ],
        [
         "6378",
         "2019",
         "d.leg 813. ley penal tributaria",
         "defraudacion tributaria",
         "1",
         "160101",
         "loreto"
        ],
        [
         "6624",
         "2019",
         "d.leg 813. ley penal tributaria",
         "d.leg 813. ley penal tributaria (sin especificar delito subgenérico)",
         "2",
         "170101",
         "madre de dios"
        ],
        [
         "6625",
         "2019",
         "d.leg 813. ley penal tributaria",
         "defraudacion tributaria",
         "2",
         "170101",
         "madre de dios"
        ],
        [
         "7369",
         "2019",
         "d.leg 813. ley penal tributaria",
         "defraudacion tributaria",
         "1",
         "200101",
         "piura"
        ],
        [
         "7370",
         "2019",
         "d.leg 813. ley penal tributaria",
         "defraudacion tributaria",
         "1",
         "200101",
         "piura"
        ],
        [
         "7371",
         "2019",
         "d.leg 813. ley penal tributaria",
         "defraudacion tributaria",
         "1",
         "200101",
         "piura"
        ],
        [
         "7653",
         "2019",
         "d.leg 813. ley penal tributaria",
         "d.leg 813. ley penal tributaria (sin especificar delito subgenérico)",
         "2",
         "210101",
         "puno"
        ],
        [
         "7654",
         "2019",
         "d.leg 813. ley penal tributaria",
         "defraudacion tributaria",
         "1",
         "210101",
         "puno"
        ],
        [
         "7655",
         "2019",
         "d.leg 813. ley penal tributaria",
         "defraudacion tributaria",
         "1",
         "210101",
         "puno"
        ],
        [
         "7656",
         "2019",
         "d.leg 813. ley penal tributaria",
         "defraudacion tributaria",
         "1",
         "210101",
         "puno"
        ],
        [
         "7907",
         "2019",
         "d.leg 813. ley penal tributaria",
         "defraudacion tributaria",
         "1",
         "220101",
         "san martin"
        ],
        [
         "7908",
         "2019",
         "d.leg 813. ley penal tributaria",
         "defraudacion tributaria",
         "1",
         "220101",
         "san martin"
        ]
       ],
       "shape": {
        "columns": 6,
        "rows": 305
       }
      },
      "text/html": [
       "<div>\n",
       "<style scoped>\n",
       "    .dataframe tbody tr th:only-of-type {\n",
       "        vertical-align: middle;\n",
       "    }\n",
       "\n",
       "    .dataframe tbody tr th {\n",
       "        vertical-align: top;\n",
       "    }\n",
       "\n",
       "    .dataframe thead th {\n",
       "        text-align: right;\n",
       "    }\n",
       "</style>\n",
       "<table border=\"1\" class=\"dataframe\">\n",
       "  <thead>\n",
       "    <tr style=\"text-align: right;\">\n",
       "      <th></th>\n",
       "      <th>anio_denuncia</th>\n",
       "      <th>generico</th>\n",
       "      <th>subgenerico</th>\n",
       "      <th>cantidad</th>\n",
       "      <th>ubigeo_pjfs</th>\n",
       "      <th>dpto_pjfs</th>\n",
       "    </tr>\n",
       "  </thead>\n",
       "  <tbody>\n",
       "    <tr>\n",
       "      <th>208</th>\n",
       "      <td>2019</td>\n",
       "      <td>d.leg 813. ley penal tributaria</td>\n",
       "      <td>defraudacion tributaria</td>\n",
       "      <td>1</td>\n",
       "      <td>10101</td>\n",
       "      <td>amazonas</td>\n",
       "    </tr>\n",
       "    <tr>\n",
       "      <th>479</th>\n",
       "      <td>2019</td>\n",
       "      <td>d.leg 813. ley penal tributaria</td>\n",
       "      <td>defraudacion tributaria</td>\n",
       "      <td>1</td>\n",
       "      <td>20101</td>\n",
       "      <td>ancash</td>\n",
       "    </tr>\n",
       "    <tr>\n",
       "      <th>1044</th>\n",
       "      <td>2019</td>\n",
       "      <td>d.leg 813. ley penal tributaria</td>\n",
       "      <td>d.leg 813. ley penal tributaria (sin especific...</td>\n",
       "      <td>3</td>\n",
       "      <td>40101</td>\n",
       "      <td>arequipa</td>\n",
       "    </tr>\n",
       "    <tr>\n",
       "      <th>1045</th>\n",
       "      <td>2019</td>\n",
       "      <td>d.leg 813. ley penal tributaria</td>\n",
       "      <td>defraudacion tributaria</td>\n",
       "      <td>1</td>\n",
       "      <td>40101</td>\n",
       "      <td>arequipa</td>\n",
       "    </tr>\n",
       "    <tr>\n",
       "      <th>1046</th>\n",
       "      <td>2019</td>\n",
       "      <td>d.leg 813. ley penal tributaria</td>\n",
       "      <td>defraudacion tributaria</td>\n",
       "      <td>5</td>\n",
       "      <td>40101</td>\n",
       "      <td>arequipa</td>\n",
       "    </tr>\n",
       "    <tr>\n",
       "      <th>...</th>\n",
       "      <td>...</td>\n",
       "      <td>...</td>\n",
       "      <td>...</td>\n",
       "      <td>...</td>\n",
       "      <td>...</td>\n",
       "      <td>...</td>\n",
       "    </tr>\n",
       "    <tr>\n",
       "      <th>7876</th>\n",
       "      <td>2023</td>\n",
       "      <td>d.leg 813. ley penal tributaria</td>\n",
       "      <td>defraudacion tributaria</td>\n",
       "      <td>1</td>\n",
       "      <td>21801</td>\n",
       "      <td>ancash</td>\n",
       "    </tr>\n",
       "    <tr>\n",
       "      <th>7877</th>\n",
       "      <td>2023</td>\n",
       "      <td>d.leg 813. ley penal tributaria</td>\n",
       "      <td>defraudacion tributaria</td>\n",
       "      <td>1</td>\n",
       "      <td>21801</td>\n",
       "      <td>ancash</td>\n",
       "    </tr>\n",
       "    <tr>\n",
       "      <th>8099</th>\n",
       "      <td>2023</td>\n",
       "      <td>d.leg 813. ley penal tributaria</td>\n",
       "      <td>defraudacion tributaria</td>\n",
       "      <td>1</td>\n",
       "      <td>120301</td>\n",
       "      <td>junin</td>\n",
       "    </tr>\n",
       "    <tr>\n",
       "      <th>8308</th>\n",
       "      <td>2023</td>\n",
       "      <td>d.leg 813. ley penal tributaria</td>\n",
       "      <td>defraudacion tributaria</td>\n",
       "      <td>1</td>\n",
       "      <td>200601</td>\n",
       "      <td>piura</td>\n",
       "    </tr>\n",
       "    <tr>\n",
       "      <th>8309</th>\n",
       "      <td>2023</td>\n",
       "      <td>d.leg 813. ley penal tributaria</td>\n",
       "      <td>defraudacion tributaria</td>\n",
       "      <td>1</td>\n",
       "      <td>200601</td>\n",
       "      <td>piura</td>\n",
       "    </tr>\n",
       "  </tbody>\n",
       "</table>\n",
       "<p>305 rows × 6 columns</p>\n",
       "</div>"
      ],
      "text/plain": [
       "      anio_denuncia                         generico  \\\n",
       "208            2019  d.leg 813. ley penal tributaria   \n",
       "479            2019  d.leg 813. ley penal tributaria   \n",
       "1044           2019  d.leg 813. ley penal tributaria   \n",
       "1045           2019  d.leg 813. ley penal tributaria   \n",
       "1046           2019  d.leg 813. ley penal tributaria   \n",
       "...             ...                              ...   \n",
       "7876           2023  d.leg 813. ley penal tributaria   \n",
       "7877           2023  d.leg 813. ley penal tributaria   \n",
       "8099           2023  d.leg 813. ley penal tributaria   \n",
       "8308           2023  d.leg 813. ley penal tributaria   \n",
       "8309           2023  d.leg 813. ley penal tributaria   \n",
       "\n",
       "                                            subgenerico  cantidad  \\\n",
       "208                             defraudacion tributaria         1   \n",
       "479                             defraudacion tributaria         1   \n",
       "1044  d.leg 813. ley penal tributaria (sin especific...         3   \n",
       "1045                            defraudacion tributaria         1   \n",
       "1046                            defraudacion tributaria         5   \n",
       "...                                                 ...       ...   \n",
       "7876                            defraudacion tributaria         1   \n",
       "7877                            defraudacion tributaria         1   \n",
       "8099                            defraudacion tributaria         1   \n",
       "8308                            defraudacion tributaria         1   \n",
       "8309                            defraudacion tributaria         1   \n",
       "\n",
       "      ubigeo_pjfs dpto_pjfs  \n",
       "208         10101  amazonas  \n",
       "479         20101    ancash  \n",
       "1044        40101  arequipa  \n",
       "1045        40101  arequipa  \n",
       "1046        40101  arequipa  \n",
       "...           ...       ...  \n",
       "7876        21801    ancash  \n",
       "7877        21801    ancash  \n",
       "8099       120301     junin  \n",
       "8308       200601     piura  \n",
       "8309       200601     piura  \n",
       "\n",
       "[305 rows x 6 columns]"
      ]
     },
     "metadata": {},
     "output_type": "display_data"
    }
   ],
   "source": [
    "display(dd[dd[\"generico\"] == \"d.leg 813. ley penal tributaria\"])"
   ]
  },
  {
   "cell_type": "code",
   "execution_count": 14,
   "metadata": {},
   "outputs": [
    {
     "data": {
      "application/vnd.microsoft.datawrangler.viewer.v0+json": {
       "columns": [
        {
         "name": "index",
         "rawType": "int64",
         "type": "integer"
        },
        {
         "name": "anio_denuncia",
         "rawType": "int64",
         "type": "integer"
        },
        {
         "name": "generico",
         "rawType": "object",
         "type": "string"
        },
        {
         "name": "subgenerico",
         "rawType": "object",
         "type": "string"
        },
        {
         "name": "cantidad",
         "rawType": "int64",
         "type": "integer"
        },
        {
         "name": "ubigeo_pjfs",
         "rawType": "int64",
         "type": "integer"
        },
        {
         "name": "dpto_pjfs",
         "rawType": "object",
         "type": "string"
        }
       ],
       "conversionMethod": "pd.DataFrame",
       "ref": "fc95d0a4-4bd0-41ef-a073-99b61c957386",
       "rows": [
        [
         "229",
         "2019",
         "delitos tributarios",
         "elaborac. y comerc. clandest. de productos",
         "2",
         "10101",
         "amazonas"
        ],
        [
         "504",
         "2019",
         "delitos tributarios",
         "elaborac. y comerc. clandest. de productos",
         "2",
         "20101",
         "ancash"
        ],
        [
         "1376",
         "2019",
         "delitos tributarios",
         "elaborac. y comerc. clandest. de productos",
         "1",
         "50110",
         "ayacucho"
        ],
        [
         "1644",
         "2019",
         "delitos tributarios",
         "elaborac. y comerc. clandest. de productos",
         "1",
         "60101",
         "cajamarca"
        ],
        [
         "1931",
         "2019",
         "delitos tributarios",
         "elaborac. y comerc. clandest. de productos",
         "1",
         "70101",
         "callao"
        ],
        [
         "2491",
         "2019",
         "delitos tributarios",
         "contrabando",
         "1",
         "80108",
         "cusco"
        ],
        [
         "2492",
         "2019",
         "delitos tributarios",
         "delitos tributarios (sin especificar delito subgenérico)",
         "4",
         "80108",
         "cusco"
        ],
        [
         "2493",
         "2019",
         "delitos tributarios",
         "elaborac. y comerc. clandest. de productos",
         "2",
         "80108",
         "cusco"
        ],
        [
         "2973",
         "2019",
         "delitos tributarios",
         "elaborac. y comerc. clandest. de productos",
         "3",
         "100101",
         "huanuco"
        ],
        [
         "2974",
         "2019",
         "delitos tributarios",
         "elaborac. y comerc. clandest. de productos",
         "2",
         "100101",
         "huanuco"
        ],
        [
         "6653",
         "2019",
         "delitos tributarios",
         "contrabando",
         "1",
         "170101",
         "madre de dios"
        ],
        [
         "6654",
         "2019",
         "delitos tributarios",
         "defraudacion tributaria",
         "1",
         "170101",
         "madre de dios"
        ],
        [
         "6655",
         "2019",
         "delitos tributarios",
         "delitos tributarios (sin especificar delito subgenérico)",
         "1",
         "170101",
         "madre de dios"
        ],
        [
         "6656",
         "2019",
         "delitos tributarios",
         "elaborac. y comerc. clandest. de productos",
         "1",
         "170101",
         "madre de dios"
        ],
        [
         "6657",
         "2019",
         "delitos tributarios",
         "elaborac. y comerc. clandest. de productos",
         "70",
         "170101",
         "madre de dios"
        ],
        [
         "7685",
         "2019",
         "delitos tributarios",
         "elaborac. y comerc. clandest. de productos",
         "4",
         "210101",
         "puno"
        ],
        [
         "7686",
         "2019",
         "delitos tributarios",
         "elaborac. y comerc. clandest. de productos",
         "2",
         "210101",
         "puno"
        ],
        [
         "9351",
         "2019",
         "delitos tributarios",
         "defraudacion tributaria",
         "1",
         "250101",
         "ucayali"
        ],
        [
         "9352",
         "2019",
         "delitos tributarios",
         "elaborac. y comerc. clandest. de productos",
         "2",
         "250101",
         "ucayali"
        ],
        [
         "713",
         "2020",
         "delitos tributarios",
         "elaborac. y comerc. clandest. de productos",
         "1",
         "30101",
         "apurimac"
        ],
        [
         "4566",
         "2020",
         "delitos tributarios",
         "defraudacion tributaria",
         "1",
         "150101",
         "lima"
        ],
        [
         "7913",
         "2020",
         "delitos tributarios",
         "defraudacion tributaria",
         "1",
         "200601",
         "piura"
        ],
        [
         "8572",
         "2020",
         "delitos tributarios",
         "elaborac. y comerc. clandest. de productos",
         "1",
         "250101",
         "ucayali"
        ],
        [
         "4269",
         "2021",
         "delitos tributarios",
         "contrabando",
         "1",
         "100101",
         "huanuco"
        ],
        [
         "5320",
         "2021",
         "delitos tributarios",
         "elaborac. y comerc. clandest. de productos",
         "1",
         "120114",
         "junin"
        ],
        [
         "1723",
         "2022",
         "delitos tributarios",
         "elaborac. y comerc. clandest. de productos",
         "1",
         "60101",
         "cajamarca"
        ],
        [
         "3054",
         "2022",
         "delitos tributarios",
         "elaborac. y comerc. clandest. de productos",
         "1",
         "100101",
         "huanuco"
        ],
        [
         "4886",
         "2022",
         "delitos tributarios",
         "defraudacion tributaria",
         "1",
         "150101",
         "lima"
        ],
        [
         "9142",
         "2022",
         "delitos tributarios",
         "contrabando",
         "2",
         "250101",
         "ucayali"
        ],
        [
         "9143",
         "2022",
         "delitos tributarios",
         "defraudacion tributaria",
         "1",
         "250101",
         "ucayali"
        ],
        [
         "9144",
         "2022",
         "delitos tributarios",
         "elaborac. y comerc. clandest. de productos",
         "1",
         "250101",
         "ucayali"
        ],
        [
         "1677",
         "2023",
         "delitos tributarios",
         "defraudacion tributaria",
         "1",
         "60101",
         "cajamarca"
        ],
        [
         "3729",
         "2023",
         "delitos tributarios",
         "elaborac. y comerc. clandest. de productos",
         "1",
         "120114",
         "junin"
        ],
        [
         "9027",
         "2023",
         "delitos tributarios",
         "contrabando",
         "1",
         "250101",
         "ucayali"
        ]
       ],
       "shape": {
        "columns": 6,
        "rows": 34
       }
      },
      "text/html": [
       "<div>\n",
       "<style scoped>\n",
       "    .dataframe tbody tr th:only-of-type {\n",
       "        vertical-align: middle;\n",
       "    }\n",
       "\n",
       "    .dataframe tbody tr th {\n",
       "        vertical-align: top;\n",
       "    }\n",
       "\n",
       "    .dataframe thead th {\n",
       "        text-align: right;\n",
       "    }\n",
       "</style>\n",
       "<table border=\"1\" class=\"dataframe\">\n",
       "  <thead>\n",
       "    <tr style=\"text-align: right;\">\n",
       "      <th></th>\n",
       "      <th>anio_denuncia</th>\n",
       "      <th>generico</th>\n",
       "      <th>subgenerico</th>\n",
       "      <th>cantidad</th>\n",
       "      <th>ubigeo_pjfs</th>\n",
       "      <th>dpto_pjfs</th>\n",
       "    </tr>\n",
       "  </thead>\n",
       "  <tbody>\n",
       "    <tr>\n",
       "      <th>229</th>\n",
       "      <td>2019</td>\n",
       "      <td>delitos tributarios</td>\n",
       "      <td>elaborac. y comerc. clandest. de productos</td>\n",
       "      <td>2</td>\n",
       "      <td>10101</td>\n",
       "      <td>amazonas</td>\n",
       "    </tr>\n",
       "    <tr>\n",
       "      <th>504</th>\n",
       "      <td>2019</td>\n",
       "      <td>delitos tributarios</td>\n",
       "      <td>elaborac. y comerc. clandest. de productos</td>\n",
       "      <td>2</td>\n",
       "      <td>20101</td>\n",
       "      <td>ancash</td>\n",
       "    </tr>\n",
       "    <tr>\n",
       "      <th>1376</th>\n",
       "      <td>2019</td>\n",
       "      <td>delitos tributarios</td>\n",
       "      <td>elaborac. y comerc. clandest. de productos</td>\n",
       "      <td>1</td>\n",
       "      <td>50110</td>\n",
       "      <td>ayacucho</td>\n",
       "    </tr>\n",
       "    <tr>\n",
       "      <th>1644</th>\n",
       "      <td>2019</td>\n",
       "      <td>delitos tributarios</td>\n",
       "      <td>elaborac. y comerc. clandest. de productos</td>\n",
       "      <td>1</td>\n",
       "      <td>60101</td>\n",
       "      <td>cajamarca</td>\n",
       "    </tr>\n",
       "    <tr>\n",
       "      <th>1931</th>\n",
       "      <td>2019</td>\n",
       "      <td>delitos tributarios</td>\n",
       "      <td>elaborac. y comerc. clandest. de productos</td>\n",
       "      <td>1</td>\n",
       "      <td>70101</td>\n",
       "      <td>callao</td>\n",
       "    </tr>\n",
       "    <tr>\n",
       "      <th>2491</th>\n",
       "      <td>2019</td>\n",
       "      <td>delitos tributarios</td>\n",
       "      <td>contrabando</td>\n",
       "      <td>1</td>\n",
       "      <td>80108</td>\n",
       "      <td>cusco</td>\n",
       "    </tr>\n",
       "    <tr>\n",
       "      <th>2492</th>\n",
       "      <td>2019</td>\n",
       "      <td>delitos tributarios</td>\n",
       "      <td>delitos tributarios (sin especificar delito su...</td>\n",
       "      <td>4</td>\n",
       "      <td>80108</td>\n",
       "      <td>cusco</td>\n",
       "    </tr>\n",
       "    <tr>\n",
       "      <th>2493</th>\n",
       "      <td>2019</td>\n",
       "      <td>delitos tributarios</td>\n",
       "      <td>elaborac. y comerc. clandest. de productos</td>\n",
       "      <td>2</td>\n",
       "      <td>80108</td>\n",
       "      <td>cusco</td>\n",
       "    </tr>\n",
       "    <tr>\n",
       "      <th>2973</th>\n",
       "      <td>2019</td>\n",
       "      <td>delitos tributarios</td>\n",
       "      <td>elaborac. y comerc. clandest. de productos</td>\n",
       "      <td>3</td>\n",
       "      <td>100101</td>\n",
       "      <td>huanuco</td>\n",
       "    </tr>\n",
       "    <tr>\n",
       "      <th>2974</th>\n",
       "      <td>2019</td>\n",
       "      <td>delitos tributarios</td>\n",
       "      <td>elaborac. y comerc. clandest. de productos</td>\n",
       "      <td>2</td>\n",
       "      <td>100101</td>\n",
       "      <td>huanuco</td>\n",
       "    </tr>\n",
       "    <tr>\n",
       "      <th>6653</th>\n",
       "      <td>2019</td>\n",
       "      <td>delitos tributarios</td>\n",
       "      <td>contrabando</td>\n",
       "      <td>1</td>\n",
       "      <td>170101</td>\n",
       "      <td>madre de dios</td>\n",
       "    </tr>\n",
       "    <tr>\n",
       "      <th>6654</th>\n",
       "      <td>2019</td>\n",
       "      <td>delitos tributarios</td>\n",
       "      <td>defraudacion tributaria</td>\n",
       "      <td>1</td>\n",
       "      <td>170101</td>\n",
       "      <td>madre de dios</td>\n",
       "    </tr>\n",
       "    <tr>\n",
       "      <th>6655</th>\n",
       "      <td>2019</td>\n",
       "      <td>delitos tributarios</td>\n",
       "      <td>delitos tributarios (sin especificar delito su...</td>\n",
       "      <td>1</td>\n",
       "      <td>170101</td>\n",
       "      <td>madre de dios</td>\n",
       "    </tr>\n",
       "    <tr>\n",
       "      <th>6656</th>\n",
       "      <td>2019</td>\n",
       "      <td>delitos tributarios</td>\n",
       "      <td>elaborac. y comerc. clandest. de productos</td>\n",
       "      <td>1</td>\n",
       "      <td>170101</td>\n",
       "      <td>madre de dios</td>\n",
       "    </tr>\n",
       "    <tr>\n",
       "      <th>6657</th>\n",
       "      <td>2019</td>\n",
       "      <td>delitos tributarios</td>\n",
       "      <td>elaborac. y comerc. clandest. de productos</td>\n",
       "      <td>70</td>\n",
       "      <td>170101</td>\n",
       "      <td>madre de dios</td>\n",
       "    </tr>\n",
       "    <tr>\n",
       "      <th>7685</th>\n",
       "      <td>2019</td>\n",
       "      <td>delitos tributarios</td>\n",
       "      <td>elaborac. y comerc. clandest. de productos</td>\n",
       "      <td>4</td>\n",
       "      <td>210101</td>\n",
       "      <td>puno</td>\n",
       "    </tr>\n",
       "    <tr>\n",
       "      <th>7686</th>\n",
       "      <td>2019</td>\n",
       "      <td>delitos tributarios</td>\n",
       "      <td>elaborac. y comerc. clandest. de productos</td>\n",
       "      <td>2</td>\n",
       "      <td>210101</td>\n",
       "      <td>puno</td>\n",
       "    </tr>\n",
       "    <tr>\n",
       "      <th>9351</th>\n",
       "      <td>2019</td>\n",
       "      <td>delitos tributarios</td>\n",
       "      <td>defraudacion tributaria</td>\n",
       "      <td>1</td>\n",
       "      <td>250101</td>\n",
       "      <td>ucayali</td>\n",
       "    </tr>\n",
       "    <tr>\n",
       "      <th>9352</th>\n",
       "      <td>2019</td>\n",
       "      <td>delitos tributarios</td>\n",
       "      <td>elaborac. y comerc. clandest. de productos</td>\n",
       "      <td>2</td>\n",
       "      <td>250101</td>\n",
       "      <td>ucayali</td>\n",
       "    </tr>\n",
       "    <tr>\n",
       "      <th>713</th>\n",
       "      <td>2020</td>\n",
       "      <td>delitos tributarios</td>\n",
       "      <td>elaborac. y comerc. clandest. de productos</td>\n",
       "      <td>1</td>\n",
       "      <td>30101</td>\n",
       "      <td>apurimac</td>\n",
       "    </tr>\n",
       "    <tr>\n",
       "      <th>4566</th>\n",
       "      <td>2020</td>\n",
       "      <td>delitos tributarios</td>\n",
       "      <td>defraudacion tributaria</td>\n",
       "      <td>1</td>\n",
       "      <td>150101</td>\n",
       "      <td>lima</td>\n",
       "    </tr>\n",
       "    <tr>\n",
       "      <th>7913</th>\n",
       "      <td>2020</td>\n",
       "      <td>delitos tributarios</td>\n",
       "      <td>defraudacion tributaria</td>\n",
       "      <td>1</td>\n",
       "      <td>200601</td>\n",
       "      <td>piura</td>\n",
       "    </tr>\n",
       "    <tr>\n",
       "      <th>8572</th>\n",
       "      <td>2020</td>\n",
       "      <td>delitos tributarios</td>\n",
       "      <td>elaborac. y comerc. clandest. de productos</td>\n",
       "      <td>1</td>\n",
       "      <td>250101</td>\n",
       "      <td>ucayali</td>\n",
       "    </tr>\n",
       "    <tr>\n",
       "      <th>4269</th>\n",
       "      <td>2021</td>\n",
       "      <td>delitos tributarios</td>\n",
       "      <td>contrabando</td>\n",
       "      <td>1</td>\n",
       "      <td>100101</td>\n",
       "      <td>huanuco</td>\n",
       "    </tr>\n",
       "    <tr>\n",
       "      <th>5320</th>\n",
       "      <td>2021</td>\n",
       "      <td>delitos tributarios</td>\n",
       "      <td>elaborac. y comerc. clandest. de productos</td>\n",
       "      <td>1</td>\n",
       "      <td>120114</td>\n",
       "      <td>junin</td>\n",
       "    </tr>\n",
       "    <tr>\n",
       "      <th>1723</th>\n",
       "      <td>2022</td>\n",
       "      <td>delitos tributarios</td>\n",
       "      <td>elaborac. y comerc. clandest. de productos</td>\n",
       "      <td>1</td>\n",
       "      <td>60101</td>\n",
       "      <td>cajamarca</td>\n",
       "    </tr>\n",
       "    <tr>\n",
       "      <th>3054</th>\n",
       "      <td>2022</td>\n",
       "      <td>delitos tributarios</td>\n",
       "      <td>elaborac. y comerc. clandest. de productos</td>\n",
       "      <td>1</td>\n",
       "      <td>100101</td>\n",
       "      <td>huanuco</td>\n",
       "    </tr>\n",
       "    <tr>\n",
       "      <th>4886</th>\n",
       "      <td>2022</td>\n",
       "      <td>delitos tributarios</td>\n",
       "      <td>defraudacion tributaria</td>\n",
       "      <td>1</td>\n",
       "      <td>150101</td>\n",
       "      <td>lima</td>\n",
       "    </tr>\n",
       "    <tr>\n",
       "      <th>9142</th>\n",
       "      <td>2022</td>\n",
       "      <td>delitos tributarios</td>\n",
       "      <td>contrabando</td>\n",
       "      <td>2</td>\n",
       "      <td>250101</td>\n",
       "      <td>ucayali</td>\n",
       "    </tr>\n",
       "    <tr>\n",
       "      <th>9143</th>\n",
       "      <td>2022</td>\n",
       "      <td>delitos tributarios</td>\n",
       "      <td>defraudacion tributaria</td>\n",
       "      <td>1</td>\n",
       "      <td>250101</td>\n",
       "      <td>ucayali</td>\n",
       "    </tr>\n",
       "    <tr>\n",
       "      <th>9144</th>\n",
       "      <td>2022</td>\n",
       "      <td>delitos tributarios</td>\n",
       "      <td>elaborac. y comerc. clandest. de productos</td>\n",
       "      <td>1</td>\n",
       "      <td>250101</td>\n",
       "      <td>ucayali</td>\n",
       "    </tr>\n",
       "    <tr>\n",
       "      <th>1677</th>\n",
       "      <td>2023</td>\n",
       "      <td>delitos tributarios</td>\n",
       "      <td>defraudacion tributaria</td>\n",
       "      <td>1</td>\n",
       "      <td>60101</td>\n",
       "      <td>cajamarca</td>\n",
       "    </tr>\n",
       "    <tr>\n",
       "      <th>3729</th>\n",
       "      <td>2023</td>\n",
       "      <td>delitos tributarios</td>\n",
       "      <td>elaborac. y comerc. clandest. de productos</td>\n",
       "      <td>1</td>\n",
       "      <td>120114</td>\n",
       "      <td>junin</td>\n",
       "    </tr>\n",
       "    <tr>\n",
       "      <th>9027</th>\n",
       "      <td>2023</td>\n",
       "      <td>delitos tributarios</td>\n",
       "      <td>contrabando</td>\n",
       "      <td>1</td>\n",
       "      <td>250101</td>\n",
       "      <td>ucayali</td>\n",
       "    </tr>\n",
       "  </tbody>\n",
       "</table>\n",
       "</div>"
      ],
      "text/plain": [
       "      anio_denuncia             generico  \\\n",
       "229            2019  delitos tributarios   \n",
       "504            2019  delitos tributarios   \n",
       "1376           2019  delitos tributarios   \n",
       "1644           2019  delitos tributarios   \n",
       "1931           2019  delitos tributarios   \n",
       "2491           2019  delitos tributarios   \n",
       "2492           2019  delitos tributarios   \n",
       "2493           2019  delitos tributarios   \n",
       "2973           2019  delitos tributarios   \n",
       "2974           2019  delitos tributarios   \n",
       "6653           2019  delitos tributarios   \n",
       "6654           2019  delitos tributarios   \n",
       "6655           2019  delitos tributarios   \n",
       "6656           2019  delitos tributarios   \n",
       "6657           2019  delitos tributarios   \n",
       "7685           2019  delitos tributarios   \n",
       "7686           2019  delitos tributarios   \n",
       "9351           2019  delitos tributarios   \n",
       "9352           2019  delitos tributarios   \n",
       "713            2020  delitos tributarios   \n",
       "4566           2020  delitos tributarios   \n",
       "7913           2020  delitos tributarios   \n",
       "8572           2020  delitos tributarios   \n",
       "4269           2021  delitos tributarios   \n",
       "5320           2021  delitos tributarios   \n",
       "1723           2022  delitos tributarios   \n",
       "3054           2022  delitos tributarios   \n",
       "4886           2022  delitos tributarios   \n",
       "9142           2022  delitos tributarios   \n",
       "9143           2022  delitos tributarios   \n",
       "9144           2022  delitos tributarios   \n",
       "1677           2023  delitos tributarios   \n",
       "3729           2023  delitos tributarios   \n",
       "9027           2023  delitos tributarios   \n",
       "\n",
       "                                            subgenerico  cantidad  \\\n",
       "229          elaborac. y comerc. clandest. de productos         2   \n",
       "504          elaborac. y comerc. clandest. de productos         2   \n",
       "1376         elaborac. y comerc. clandest. de productos         1   \n",
       "1644         elaborac. y comerc. clandest. de productos         1   \n",
       "1931         elaborac. y comerc. clandest. de productos         1   \n",
       "2491                                        contrabando         1   \n",
       "2492  delitos tributarios (sin especificar delito su...         4   \n",
       "2493         elaborac. y comerc. clandest. de productos         2   \n",
       "2973         elaborac. y comerc. clandest. de productos         3   \n",
       "2974         elaborac. y comerc. clandest. de productos         2   \n",
       "6653                                        contrabando         1   \n",
       "6654                            defraudacion tributaria         1   \n",
       "6655  delitos tributarios (sin especificar delito su...         1   \n",
       "6656         elaborac. y comerc. clandest. de productos         1   \n",
       "6657         elaborac. y comerc. clandest. de productos        70   \n",
       "7685         elaborac. y comerc. clandest. de productos         4   \n",
       "7686         elaborac. y comerc. clandest. de productos         2   \n",
       "9351                            defraudacion tributaria         1   \n",
       "9352         elaborac. y comerc. clandest. de productos         2   \n",
       "713          elaborac. y comerc. clandest. de productos         1   \n",
       "4566                            defraudacion tributaria         1   \n",
       "7913                            defraudacion tributaria         1   \n",
       "8572         elaborac. y comerc. clandest. de productos         1   \n",
       "4269                                        contrabando         1   \n",
       "5320         elaborac. y comerc. clandest. de productos         1   \n",
       "1723         elaborac. y comerc. clandest. de productos         1   \n",
       "3054         elaborac. y comerc. clandest. de productos         1   \n",
       "4886                            defraudacion tributaria         1   \n",
       "9142                                        contrabando         2   \n",
       "9143                            defraudacion tributaria         1   \n",
       "9144         elaborac. y comerc. clandest. de productos         1   \n",
       "1677                            defraudacion tributaria         1   \n",
       "3729         elaborac. y comerc. clandest. de productos         1   \n",
       "9027                                        contrabando         1   \n",
       "\n",
       "      ubigeo_pjfs      dpto_pjfs  \n",
       "229         10101       amazonas  \n",
       "504         20101         ancash  \n",
       "1376        50110       ayacucho  \n",
       "1644        60101      cajamarca  \n",
       "1931        70101         callao  \n",
       "2491        80108          cusco  \n",
       "2492        80108          cusco  \n",
       "2493        80108          cusco  \n",
       "2973       100101        huanuco  \n",
       "2974       100101        huanuco  \n",
       "6653       170101  madre de dios  \n",
       "6654       170101  madre de dios  \n",
       "6655       170101  madre de dios  \n",
       "6656       170101  madre de dios  \n",
       "6657       170101  madre de dios  \n",
       "7685       210101           puno  \n",
       "7686       210101           puno  \n",
       "9351       250101        ucayali  \n",
       "9352       250101        ucayali  \n",
       "713         30101       apurimac  \n",
       "4566       150101           lima  \n",
       "7913       200601          piura  \n",
       "8572       250101        ucayali  \n",
       "4269       100101        huanuco  \n",
       "5320       120114          junin  \n",
       "1723        60101      cajamarca  \n",
       "3054       100101        huanuco  \n",
       "4886       150101           lima  \n",
       "9142       250101        ucayali  \n",
       "9143       250101        ucayali  \n",
       "9144       250101        ucayali  \n",
       "1677        60101      cajamarca  \n",
       "3729       120114          junin  \n",
       "9027       250101        ucayali  "
      ]
     },
     "metadata": {},
     "output_type": "display_data"
    }
   ],
   "source": [
    "display(dd[dd[\"generico\"] == \"delitos tributarios\"])"
   ]
  },
  {
   "cell_type": "code",
   "execution_count": 15,
   "metadata": {},
   "outputs": [
    {
     "data": {
      "text/plain": [
       "subgenerico\n",
       "defraudacion tributaria                                                 257\n",
       "d.leg 813. ley penal tributaria (sin especificar delito subgenérico)     48\n",
       "Name: count, dtype: int64"
      ]
     },
     "execution_count": 15,
     "metadata": {},
     "output_type": "execute_result"
    }
   ],
   "source": [
    "dd[dd[\"generico\"] == \"d.leg 813. ley penal tributaria\"][\"subgenerico\"].value_counts ()"
   ]
  },
  {
   "cell_type": "code",
   "execution_count": 16,
   "metadata": {},
   "outputs": [
    {
     "data": {
      "text/plain": [
       "subgenerico\n",
       "elaborac. y comerc. clandest. de productos                  20\n",
       "defraudacion tributaria                                      7\n",
       "contrabando                                                  5\n",
       "delitos tributarios (sin especificar delito subgenérico)     2\n",
       "Name: count, dtype: int64"
      ]
     },
     "execution_count": 16,
     "metadata": {},
     "output_type": "execute_result"
    }
   ],
   "source": [
    "dd[dd[\"generico\"] == \"delitos tributarios\"][\"subgenerico\"].value_counts()"
   ]
  },
  {
   "cell_type": "code",
   "execution_count": 17,
   "metadata": {},
   "outputs": [
    {
     "data": {
      "text/plain": [
       "subgenerico\n",
       "defraudacion tributaria                                                 264\n",
       "d.leg 813. ley penal tributaria (sin especificar delito subgenérico)     48\n",
       "elaborac. y comerc. clandest. de productos                               20\n",
       "contrabando                                                               5\n",
       "delitos tributarios (sin especificar delito subgenérico)                  2\n",
       "Name: count, dtype: int64"
      ]
     },
     "execution_count": 17,
     "metadata": {},
     "output_type": "execute_result"
    }
   ],
   "source": [
    "#convierte los subgenéricos del genérico #d. leg 813. ley penal tributaria' a genéricos de 'delitos tributarios'\n",
    "dd.loc[dd[\"generico\"] == \"d.leg 813. ley penal tributaria\", \"generico\"] = \"delitos tributarios\"\n",
    "dd[dd[\"generico\"] == \"delitos tributarios\"][\"subgenerico\"].value_counts()"
   ]
  },
  {
   "cell_type": "markdown",
   "metadata": {},
   "source": [
    "## d. leg. 1106 lavado de activos"
   ]
  },
  {
   "cell_type": "code",
   "execution_count": 18,
   "metadata": {},
   "outputs": [
    {
     "data": {
      "text/plain": [
       "subgenerico\n",
       "lavado de activos    504\n",
       "Name: count, dtype: int64"
      ]
     },
     "execution_count": 18,
     "metadata": {},
     "output_type": "execute_result"
    }
   ],
   "source": [
    "dd[dd[\"generico\"] == \"d.leg. 1106 lavado de activos\"][\"subgenerico\"].value_counts()"
   ]
  },
  {
   "cell_type": "code",
   "execution_count": 19,
   "metadata": {},
   "outputs": [
    {
     "data": {
      "text/plain": [
       "subgenerico\n",
       "delitos monetarios                                                             554\n",
       "delitos financieros                                                            390\n",
       "contra el orden financiero y monetario (sin especificar delito subgenérico)     52\n",
       "Name: count, dtype: int64"
      ]
     },
     "execution_count": 19,
     "metadata": {},
     "output_type": "execute_result"
    }
   ],
   "source": [
    "dd[dd[\"generico\"] == \"contra el orden financiero y monetario\"][\"subgenerico\"].value_counts()"
   ]
  },
  {
   "cell_type": "code",
   "execution_count": 20,
   "metadata": {},
   "outputs": [
    {
     "data": {
      "text/plain": [
       "subgenerico\n",
       "delitos monetarios                                                             554\n",
       "lavado de activos                                                              504\n",
       "delitos financieros                                                            390\n",
       "contra el orden financiero y monetario (sin especificar delito subgenérico)     52\n",
       "Name: count, dtype: int64"
      ]
     },
     "execution_count": 20,
     "metadata": {},
     "output_type": "execute_result"
    }
   ],
   "source": [
    "dd.loc[dd[\"generico\"] == \"d.leg. 1106 lavado de activos\", \"generico\"] = \"contra el orden financiero y monetario\"\n",
    "dd[dd[\"generico\"] == \"contra el orden financiero y monetario\"][\"subgenerico\"].value_counts()"
   ]
  },
  {
   "cell_type": "markdown",
   "metadata": {},
   "source": [
    "## delitos aduaneros (ley 28008)"
   ]
  },
  {
   "cell_type": "code",
   "execution_count": 21,
   "metadata": {},
   "outputs": [
    {
     "data": {
      "text/plain": [
       "subgenerico\n",
       "contrabando (d.aduan.)                                                321\n",
       "defraudación de rentas de aduana                                       93\n",
       "receptación aduanera                                                   87\n",
       "delitos aduaneros (ley 28008) (sin especificar delito subgenérico)     76\n",
       "tráfico de mercancías prohibidas y restringidas                        72\n",
       "circunstancias agravantes                                              35\n",
       "tentativa                                                              22\n",
       "financiamiento                                                          4\n",
       "Name: count, dtype: int64"
      ]
     },
     "execution_count": 21,
     "metadata": {},
     "output_type": "execute_result"
    }
   ],
   "source": [
    "dd[dd[\"generico\"] == \"delitos aduaneros (ley 28008)\"][\"subgenerico\"].value_counts()"
   ]
  },
  {
   "cell_type": "code",
   "execution_count": 22,
   "metadata": {},
   "outputs": [
    {
     "data": {
      "text/plain": [
       "subgenerico\n",
       "defraudacion tributaria                                                 264\n",
       "d.leg 813. ley penal tributaria (sin especificar delito subgenérico)     48\n",
       "elaborac. y comerc. clandest. de productos                               20\n",
       "contrabando                                                               5\n",
       "delitos tributarios (sin especificar delito subgenérico)                  2\n",
       "Name: count, dtype: int64"
      ]
     },
     "execution_count": 22,
     "metadata": {},
     "output_type": "execute_result"
    }
   ],
   "source": [
    "dd[dd[\"generico\"] == \"delitos tributarios\"][\"subgenerico\"].value_counts()"
   ]
  },
  {
   "cell_type": "code",
   "execution_count": 23,
   "metadata": {},
   "outputs": [
    {
     "data": {
      "text/plain": [
       "subgenerico\n",
       "contrabando (d.aduan.)                                                  321\n",
       "defraudacion tributaria                                                 264\n",
       "defraudación de rentas de aduana                                         93\n",
       "receptación aduanera                                                     87\n",
       "delitos aduaneros (ley 28008) (sin especificar delito subgenérico)       76\n",
       "tráfico de mercancías prohibidas y restringidas                          72\n",
       "d.leg 813. ley penal tributaria (sin especificar delito subgenérico)     48\n",
       "circunstancias agravantes                                                35\n",
       "tentativa                                                                22\n",
       "elaborac. y comerc. clandest. de productos                               20\n",
       "contrabando                                                               5\n",
       "financiamiento                                                            4\n",
       "delitos tributarios (sin especificar delito subgenérico)                  2\n",
       "Name: count, dtype: int64"
      ]
     },
     "execution_count": 23,
     "metadata": {},
     "output_type": "execute_result"
    }
   ],
   "source": [
    "dd.loc[dd[\"generico\"] == \"delitos aduaneros (ley 28008)\", \"generico\"] = \"delitos tributarios\"\n",
    "dd[dd[\"generico\"] == \"delitos tributarios\"][\"subgenerico\"].value_counts()"
   ]
  },
  {
   "cell_type": "markdown",
   "metadata": {},
   "source": [
    "## ley 26859, ley organica de elecciones"
   ]
  },
  {
   "cell_type": "code",
   "execution_count": 24,
   "metadata": {},
   "outputs": [
    {
     "data": {
      "text/plain": [
       "subgenerico\n",
       "delitos contra el derecho al sufragio    172\n",
       "Name: count, dtype: int64"
      ]
     },
     "execution_count": 24,
     "metadata": {},
     "output_type": "execute_result"
    }
   ],
   "source": [
    "dd[dd[\"generico\"] == \"ley 26859, ley organica de elecciones\"][\"subgenerico\"].value_counts()"
   ]
  },
  {
   "cell_type": "code",
   "execution_count": 25,
   "metadata": {},
   "outputs": [
    {
     "data": {
      "text/plain": [
       "subgenerico\n",
       "delitos contra el derecho al sufragio                                      487\n",
       "delitos contra la voluntad popular (sin especificar delito subgenérico)     32\n",
       "delitos contra la participacion democratica                                 21\n",
       "Name: count, dtype: int64"
      ]
     },
     "execution_count": 25,
     "metadata": {},
     "output_type": "execute_result"
    }
   ],
   "source": [
    "dd[dd[\"generico\"] == \"contra la voluntad popular\"][\"subgenerico\"].value_counts()"
   ]
  },
  {
   "cell_type": "code",
   "execution_count": 26,
   "metadata": {},
   "outputs": [
    {
     "data": {
      "text/plain": [
       "subgenerico\n",
       "delitos contra el derecho al sufragio                                      659\n",
       "delitos contra la voluntad popular (sin especificar delito subgenérico)     32\n",
       "delitos contra la participacion democratica                                 21\n",
       "Name: count, dtype: int64"
      ]
     },
     "execution_count": 26,
     "metadata": {},
     "output_type": "execute_result"
    }
   ],
   "source": [
    "dd.loc[dd[\"generico\"] == \"ley 26859, ley organica de elecciones\", \"generico\"] = \"contra la voluntad popular\"\n",
    "dd[dd[\"generico\"] == \"contra la voluntad popular\"][\"subgenerico\"].value_counts()"
   ]
  },
  {
   "cell_type": "markdown",
   "metadata": {},
   "source": [
    "## ley nº 30096, ley de delitos informaticos"
   ]
  },
  {
   "cell_type": "code",
   "execution_count": 27,
   "metadata": {},
   "outputs": [
    {
     "data": {
      "text/plain": [
       "subgenerico\n",
       "delitos contra datos y sistemas informaticos                                      357\n",
       "delitos informaticos contra el patrimonio                                         276\n",
       "delitos informaticos contra la fe publica                                         204\n",
       "delitos informaticos contra la intimidad y el secreto de las comunicaciones       171\n",
       "delitos informaticos contra la indemnidad y libertad sexuales                     129\n",
       "ley nº 30096, ley de delitos informaticos (sin especificar delito subgenérico)    128\n",
       "Name: count, dtype: int64"
      ]
     },
     "execution_count": 27,
     "metadata": {},
     "output_type": "execute_result"
    }
   ],
   "source": [
    "\n",
    "dd[dd[\"generico\"] == \"ley nº 30096, ley de delitos informaticos\"][\"subgenerico\"].value_counts()"
   ]
  },
  {
   "cell_type": "markdown",
   "metadata": {},
   "source": [
    "### delitos contra datos y sistemas informaticos"
   ]
  },
  {
   "cell_type": "code",
   "execution_count": 28,
   "metadata": {},
   "outputs": [
    {
     "data": {
      "text/plain": [
       "subgenerico\n",
       "contra la salud publica (contaminacion y propagacion, trafico ilicito de drogas)    2634\n",
       "delito de peligro comun                                                             1925\n",
       "contra los medios de transp., comunic. y otros serv. públicos                        558\n",
       "delitos contra datos y sistemas informaticos                                         357\n",
       "contra la seguridad publica (sin especificar delito subgenérico)                     120\n",
       "contra el orden migratorio                                                           103\n",
       "Name: count, dtype: int64"
      ]
     },
     "execution_count": 28,
     "metadata": {},
     "output_type": "execute_result"
    }
   ],
   "source": [
    "#convertir el subgenerico 'delitos contra datos y sistemas informaticos'en el generico \"contra la seguridad publica\"\n",
    "dd.loc[dd[\"subgenerico\"] == \"delitos contra datos y sistemas informaticos\", \"generico\"] = \"contra la seguridad publica\"\n",
    "dd[dd[\"generico\"] == \"contra la seguridad publica\"][\"subgenerico\"].value_counts()"
   ]
  },
  {
   "cell_type": "markdown",
   "metadata": {},
   "source": [
    "### ley nº 30096, ley de delitos informaticos (sin especificar delito subgenérico)"
   ]
  },
  {
   "cell_type": "code",
   "execution_count": 29,
   "metadata": {},
   "outputs": [
    {
     "name": "stderr",
     "output_type": "stream",
     "text": [
      "C:\\Users\\dial_\\AppData\\Local\\Temp\\ipykernel_32536\\1343743862.py:1: FutureWarning: Setting an item of incompatible dtype is deprecated and will raise an error in a future version of pandas. Value 'contra la seguridad publica' has dtype incompatible with int64, please explicitly cast to a compatible dtype first.\n",
      "  dd.loc[dd[\"subgenerico\"] == \"ley nº 30096, ley de delitos informaticos (sin especificar delito subgenérico)\"] = \"contra la seguridad publica\"\n",
      "C:\\Users\\dial_\\AppData\\Local\\Temp\\ipykernel_32536\\1343743862.py:1: FutureWarning: Setting an item of incompatible dtype is deprecated and will raise an error in a future version of pandas. Value 'contra la seguridad publica' has dtype incompatible with int64, please explicitly cast to a compatible dtype first.\n",
      "  dd.loc[dd[\"subgenerico\"] == \"ley nº 30096, ley de delitos informaticos (sin especificar delito subgenérico)\"] = \"contra la seguridad publica\"\n",
      "C:\\Users\\dial_\\AppData\\Local\\Temp\\ipykernel_32536\\1343743862.py:1: FutureWarning: Setting an item of incompatible dtype is deprecated and will raise an error in a future version of pandas. Value 'contra la seguridad publica' has dtype incompatible with int64, please explicitly cast to a compatible dtype first.\n",
      "  dd.loc[dd[\"subgenerico\"] == \"ley nº 30096, ley de delitos informaticos (sin especificar delito subgenérico)\"] = \"contra la seguridad publica\"\n"
     ]
    },
    {
     "data": {
      "text/plain": [
       "subgenerico\n",
       "contra la salud publica (contaminacion y propagacion, trafico ilicito de drogas)    2634\n",
       "delito de peligro comun                                                             1925\n",
       "contra los medios de transp., comunic. y otros serv. públicos                        558\n",
       "delitos contra datos y sistemas informaticos                                         357\n",
       "ley nº 30096, ley de delitos informaticos (sin especificar delito subgenérico)       128\n",
       "contra la seguridad publica (sin especificar delito subgenérico)                     120\n",
       "contra el orden migratorio                                                           103\n",
       "Name: count, dtype: int64"
      ]
     },
     "execution_count": 29,
     "metadata": {},
     "output_type": "execute_result"
    }
   ],
   "source": [
    "dd.loc[dd[\"subgenerico\"] == \"ley nº 30096, ley de delitos informaticos (sin especificar delito subgenérico)\"] = \"contra la seguridad publica\"\n",
    "\n",
    "# Cambiar el nombre del subgenerico \"ley nº 30096, ley de delitos informaticos (sin especificar delito subgenérico)\" a \"ley de delitos informaticos\"\n",
    "dd.loc[dd[\"subgenerico\"] == \"contra la seguridad publica\", \"subgenerico\"] = \"ley nº 30096, ley de delitos informaticos (sin especificar delito subgenérico)\"\n",
    "\n",
    "dd[dd[\"generico\"] == \"contra la seguridad publica\"][\"subgenerico\"].value_counts()"
   ]
  },
  {
   "cell_type": "markdown",
   "metadata": {},
   "source": [
    "### delitos informaticos contra el patrimonio"
   ]
  },
  {
   "cell_type": "code",
   "execution_count": 30,
   "metadata": {},
   "outputs": [
    {
     "data": {
      "text/plain": [
       "subgenerico\n",
       "daños                                                        816\n",
       "hurto                                                        768\n",
       "usurpacion                                                   758\n",
       "estafa y otras defraudaciones                                751\n",
       "apropiacion ilicita                                          715\n",
       "robo                                                         542\n",
       "receptacion                                                  514\n",
       "extorsion                                                    473\n",
       "abigeato                                                     450\n",
       "fraude en la administr. de pers. jurid.                      319\n",
       "delitos informaticos contra el patrimonio                    276\n",
       "contra el patrimonio (sin especificar delito subgenérico)    145\n",
       "delitos informaticos                                          32\n",
       "Name: count, dtype: int64"
      ]
     },
     "execution_count": 30,
     "metadata": {},
     "output_type": "execute_result"
    }
   ],
   "source": [
    "dd.loc[dd[\"subgenerico\"] == \"delitos informaticos contra el patrimonio\", \"generico\"] = \"contra el patrimonio\"\n",
    "dd[dd[\"generico\"] == \"contra el patrimonio\"][\"subgenerico\"].value_counts()"
   ]
  },
  {
   "cell_type": "markdown",
   "metadata": {},
   "source": [
    "### delitos informaticos contra la fe publica"
   ]
  },
  {
   "cell_type": "code",
   "execution_count": 31,
   "metadata": {},
   "outputs": [
    {
     "data": {
      "text/plain": [
       "subgenerico\n",
       "falsificacion de documentos en general                               1166\n",
       "falsificacion de sellos, timbres y marcas oficiales                   266\n",
       "delitos informaticos contra la fe publica                             204\n",
       "delitos contra la fe publica (sin especificar delito subgenérico)     130\n",
       "Name: count, dtype: int64"
      ]
     },
     "execution_count": 31,
     "metadata": {},
     "output_type": "execute_result"
    }
   ],
   "source": [
    "dd.loc[dd[\"subgenerico\"] == \"delitos informaticos contra la fe publica\", \"generico\"] = \"contra la fe publica\"\n",
    "dd.loc[dd[\"subgenerico\"] == \"contra la fe publica\", \"subgenerico\"] = \"delitos informaticos contra la fe publica\"\n",
    "dd[dd[\"generico\"] == \"contra la fe publica\"][\"subgenerico\"].value_counts()"
   ]
  },
  {
   "cell_type": "markdown",
   "metadata": {},
   "source": [
    "### delitos informaticos contra la indemnidad y libertad sexuales"
   ]
  },
  {
   "cell_type": "code",
   "execution_count": 32,
   "metadata": {},
   "outputs": [
    {
     "data": {
      "text/plain": [
       "subgenerico\n",
       "explotacion          181\n",
       "trata de personas     63\n",
       "Name: count, dtype: int64"
      ]
     },
     "execution_count": 32,
     "metadata": {},
     "output_type": "execute_result"
    }
   ],
   "source": [
    "dd[dd[\"generico\"] == \"contra la dignidad humana\"][\"subgenerico\"].value_counts()"
   ]
  },
  {
   "cell_type": "code",
   "execution_count": 33,
   "metadata": {},
   "outputs": [
    {
     "data": {
      "text/plain": [
       "subgenerico\n",
       "explotacion                                                      181\n",
       "delitos informaticos contra la indemnidad y libertad sexuales    129\n",
       "trata de personas                                                 63\n",
       "Name: count, dtype: int64"
      ]
     },
     "execution_count": 33,
     "metadata": {},
     "output_type": "execute_result"
    }
   ],
   "source": [
    "dd.loc[dd[\"subgenerico\"] == \"delitos informaticos contra la indemnidad y libertad sexuales\", \"generico\"] = \"contra la dignidad humana\"\n",
    "# dd.loc[dd[\"subgenerico\"] == \"contra la fe publica\", \"subgenerico\"] = \"delitos informaticos contra la fe publica\"\n",
    "dd[dd[\"generico\"] == \"contra la dignidad humana\"][\"subgenerico\"].value_counts()"
   ]
  },
  {
   "cell_type": "markdown",
   "metadata": {},
   "source": [
    "### delitos informaticos contra la intimidad y el secreto de las comunicaciones"
   ]
  },
  {
   "cell_type": "code",
   "execution_count": 34,
   "metadata": {},
   "outputs": [
    {
     "data": {
      "text/plain": [
       "subgenerico\n",
       "explotacion                                                                    181\n",
       "delitos informaticos contra la intimidad y el secreto de las comunicaciones    171\n",
       "delitos informaticos contra la indemnidad y libertad sexuales                  129\n",
       "trata de personas                                                               63\n",
       "Name: count, dtype: int64"
      ]
     },
     "execution_count": 34,
     "metadata": {},
     "output_type": "execute_result"
    }
   ],
   "source": [
    "dd.loc[dd[\"subgenerico\"] == \"delitos informaticos contra la intimidad y el secreto de las comunicaciones\"] = \"contra la dignidad humana\"\n",
    "dd.loc[dd[\"subgenerico\"] == \"contra la dignidad humana\", \"subgenerico\"] = \"delitos informaticos contra la intimidad y el secreto de las comunicaciones\"\n",
    "dd[dd[\"generico\"] == \"contra la dignidad humana\"][\"subgenerico\"].value_counts()"
   ]
  },
  {
   "cell_type": "markdown",
   "metadata": {},
   "source": [
    "# Data final"
   ]
  },
  {
   "cell_type": "code",
   "execution_count": 35,
   "metadata": {},
   "outputs": [
    {
     "data": {
      "text/plain": [
       "generico\n",
       "contra la administracion publica                        9750\n",
       "contra el patrimonio                                    6559\n",
       "contra la libertad                                      6249\n",
       "contra la seguridad publica                             5825\n",
       "contra la vida/el cuerpo y la salud                     5011\n",
       "delitos ambientales                                     2667\n",
       "contra la fe publica                                    1766\n",
       "contra el orden financiero y monetario                  1500\n",
       "contra la tranquilidad publica                          1387\n",
       "contra la familia                                       1345\n",
       "delitos tributarios                                     1049\n",
       "contra los derechos intelectuales                        727\n",
       "contra la voluntad popular                               712\n",
       "contra la humanidad                                      706\n",
       "contra el honor                                          577\n",
       "contra la dignidad humana                                544\n",
       "contra la conf.y.la.buen.fe.en.negocios                  464\n",
       "contra el orden economico                                416\n",
       "contra el patrimonio cultural                            339\n",
       "contra el estado y la defensa nacional                   253\n",
       "contra los poderes del estado y orden constitucional      49\n",
       "Name: count, dtype: int64"
      ]
     },
     "execution_count": 35,
     "metadata": {},
     "output_type": "execute_result"
    }
   ],
   "source": [
    "dd[\"generico\"].value_counts()   #21"
   ]
  },
  {
   "cell_type": "code",
   "execution_count": 36,
   "metadata": {},
   "outputs": [
    {
     "data": {
      "application/vnd.microsoft.datawrangler.viewer.v0+json": {
       "columns": [
        {
         "name": "index",
         "rawType": "int64",
         "type": "integer"
        },
        {
         "name": "anio_denuncia",
         "rawType": "object",
         "type": "unknown"
        },
        {
         "name": "generico",
         "rawType": "object",
         "type": "string"
        },
        {
         "name": "subgenerico",
         "rawType": "object",
         "type": "string"
        },
        {
         "name": "cantidad",
         "rawType": "object",
         "type": "unknown"
        },
        {
         "name": "ubigeo_pjfs",
         "rawType": "object",
         "type": "unknown"
        },
        {
         "name": "dpto_pjfs",
         "rawType": "object",
         "type": "string"
        }
       ],
       "conversionMethod": "pd.DataFrame",
       "ref": "971efdc2-c707-4bde-b840-b5728fcf2e73",
       "rows": [
        [
         "0",
         "2019",
         "contra el honor",
         "contra el honor (sin especificar delito subgenérico)",
         "4",
         "10101",
         "amazonas"
        ],
        [
         "1",
         "2019",
         "contra el honor",
         "injuria,calumnia y difamacion",
         "1",
         "10101",
         "amazonas"
        ],
        [
         "2",
         "2019",
         "contra el honor",
         "injuria,calumnia y difamacion",
         "2",
         "10101",
         "amazonas"
        ],
        [
         "3",
         "2019",
         "contra el honor",
         "injuria,calumnia y difamacion",
         "14",
         "10101",
         "amazonas"
        ],
        [
         "4",
         "2019",
         "contra el honor",
         "injuria,calumnia y difamacion",
         "1",
         "10101",
         "amazonas"
        ],
        [
         "5",
         "2019",
         "contra el orden economico",
         "acaparamiento, especulacion, adulteracion",
         "2",
         "10101",
         "amazonas"
        ],
        [
         "6",
         "2019",
         "contra el orden financiero y monetario",
         "contra el orden financiero y monetario (sin especificar delito subgenérico)",
         "2",
         "10101",
         "amazonas"
        ],
        [
         "7",
         "2019",
         "contra el orden financiero y monetario",
         "delitos monetarios",
         "11",
         "10101",
         "amazonas"
        ],
        [
         "8",
         "2019",
         "contra el orden financiero y monetario",
         "delitos monetarios",
         "2",
         "10101",
         "amazonas"
        ],
        [
         "9",
         "2019",
         "contra el patrimonio",
         "abigeato",
         "55",
         "10101",
         "amazonas"
        ],
        [
         "10",
         "2019",
         "contra el patrimonio",
         "abigeato",
         "1",
         "10101",
         "amazonas"
        ],
        [
         "11",
         "2019",
         "contra el patrimonio",
         "abigeato",
         "1",
         "10101",
         "amazonas"
        ],
        [
         "12",
         "2019",
         "contra el patrimonio",
         "abigeato",
         "15",
         "10101",
         "amazonas"
        ],
        [
         "13",
         "2019",
         "contra el patrimonio",
         "apropiacion ilicita",
         "44",
         "10101",
         "amazonas"
        ],
        [
         "14",
         "2019",
         "contra el patrimonio",
         "apropiacion ilicita",
         "1",
         "10101",
         "amazonas"
        ],
        [
         "15",
         "2019",
         "contra el patrimonio",
         "apropiacion ilicita",
         "4",
         "10101",
         "amazonas"
        ],
        [
         "16",
         "2019",
         "contra el patrimonio",
         "apropiacion ilicita",
         "1",
         "10101",
         "amazonas"
        ],
        [
         "17",
         "2019",
         "contra el patrimonio",
         "apropiacion ilicita",
         "46",
         "10101",
         "amazonas"
        ],
        [
         "18",
         "2019",
         "contra el patrimonio",
         "contra el patrimonio (sin especificar delito subgenérico)",
         "92",
         "10101",
         "amazonas"
        ],
        [
         "19",
         "2019",
         "contra el patrimonio",
         "daños",
         "121",
         "10101",
         "amazonas"
        ],
        [
         "20",
         "2019",
         "contra el patrimonio",
         "daños",
         "37",
         "10101",
         "amazonas"
        ],
        [
         "21",
         "2019",
         "contra el patrimonio",
         "daños",
         "2",
         "10101",
         "amazonas"
        ],
        [
         "22",
         "2019",
         "contra el patrimonio",
         "daños",
         "272",
         "10101",
         "amazonas"
        ],
        [
         "23",
         "2019",
         "contra el patrimonio",
         "estafa y otras defraudaciones",
         "105",
         "10101",
         "amazonas"
        ],
        [
         "24",
         "2019",
         "contra el patrimonio",
         "estafa y otras defraudaciones",
         "7",
         "10101",
         "amazonas"
        ],
        [
         "25",
         "2019",
         "contra el patrimonio",
         "estafa y otras defraudaciones",
         "4",
         "10101",
         "amazonas"
        ],
        [
         "26",
         "2019",
         "contra el patrimonio",
         "estafa y otras defraudaciones",
         "5",
         "10101",
         "amazonas"
        ],
        [
         "27",
         "2019",
         "contra el patrimonio",
         "extorsion",
         "13",
         "10101",
         "amazonas"
        ],
        [
         "28",
         "2019",
         "contra el patrimonio",
         "extorsion",
         "1",
         "10101",
         "amazonas"
        ],
        [
         "29",
         "2019",
         "contra el patrimonio",
         "extorsion",
         "1",
         "10101",
         "amazonas"
        ],
        [
         "30",
         "2019",
         "contra el patrimonio",
         "hurto",
         "209",
         "10101",
         "amazonas"
        ],
        [
         "31",
         "2019",
         "contra el patrimonio",
         "hurto",
         "456",
         "10101",
         "amazonas"
        ],
        [
         "32",
         "2019",
         "contra el patrimonio",
         "hurto",
         "671",
         "10101",
         "amazonas"
        ],
        [
         "33",
         "2019",
         "contra el patrimonio",
         "receptacion",
         "33",
         "10101",
         "amazonas"
        ],
        [
         "34",
         "2019",
         "contra el patrimonio",
         "receptacion",
         "4",
         "10101",
         "amazonas"
        ],
        [
         "35",
         "2019",
         "contra el patrimonio",
         "receptacion",
         "15",
         "10101",
         "amazonas"
        ],
        [
         "36",
         "2019",
         "contra el patrimonio",
         "robo",
         "20",
         "10101",
         "amazonas"
        ],
        [
         "37",
         "2019",
         "contra el patrimonio",
         "robo",
         "119",
         "10101",
         "amazonas"
        ],
        [
         "38",
         "2019",
         "contra el patrimonio",
         "robo",
         "44",
         "10101",
         "amazonas"
        ],
        [
         "39",
         "2019",
         "contra el patrimonio",
         "usurpacion",
         "99",
         "10101",
         "amazonas"
        ],
        [
         "40",
         "2019",
         "contra el patrimonio",
         "usurpacion",
         "2",
         "10101",
         "amazonas"
        ],
        [
         "41",
         "2019",
         "contra el patrimonio",
         "usurpacion",
         "26",
         "10101",
         "amazonas"
        ],
        [
         "42",
         "2019",
         "contra el patrimonio",
         "usurpacion",
         "130",
         "10101",
         "amazonas"
        ],
        [
         "43",
         "2019",
         "contra el patrimonio cultural",
         "contra los bienes culturales",
         "1",
         "10101",
         "amazonas"
        ],
        [
         "44",
         "2019",
         "contra la administracion publica",
         "delitos cometidos por funcionarios publicos",
         "73",
         "10101",
         "amazonas"
        ],
        [
         "45",
         "2019",
         "contra la administracion publica",
         "delitos cometidos por funcionarios publicos",
         "65",
         "10101",
         "amazonas"
        ],
        [
         "46",
         "2019",
         "contra la administracion publica",
         "delitos cometidos por funcionarios publicos",
         "1",
         "10101",
         "amazonas"
        ],
        [
         "47",
         "2019",
         "contra la administracion publica",
         "delitos cometidos por funcionarios publicos",
         "7",
         "10101",
         "amazonas"
        ],
        [
         "48",
         "2019",
         "contra la administracion publica",
         "delitos cometidos por funcionarios publicos",
         "1",
         "10101",
         "amazonas"
        ],
        [
         "49",
         "2019",
         "contra la administracion publica",
         "delitos cometidos por funcionarios publicos",
         "12",
         "10101",
         "amazonas"
        ]
       ],
       "shape": {
        "columns": 6,
        "rows": 47895
       }
      },
      "text/html": [
       "<div>\n",
       "<style scoped>\n",
       "    .dataframe tbody tr th:only-of-type {\n",
       "        vertical-align: middle;\n",
       "    }\n",
       "\n",
       "    .dataframe tbody tr th {\n",
       "        vertical-align: top;\n",
       "    }\n",
       "\n",
       "    .dataframe thead th {\n",
       "        text-align: right;\n",
       "    }\n",
       "</style>\n",
       "<table border=\"1\" class=\"dataframe\">\n",
       "  <thead>\n",
       "    <tr style=\"text-align: right;\">\n",
       "      <th></th>\n",
       "      <th>anio_denuncia</th>\n",
       "      <th>generico</th>\n",
       "      <th>subgenerico</th>\n",
       "      <th>cantidad</th>\n",
       "      <th>ubigeo_pjfs</th>\n",
       "      <th>dpto_pjfs</th>\n",
       "    </tr>\n",
       "  </thead>\n",
       "  <tbody>\n",
       "    <tr>\n",
       "      <th>0</th>\n",
       "      <td>2019</td>\n",
       "      <td>contra el honor</td>\n",
       "      <td>contra el honor (sin especificar delito subgen...</td>\n",
       "      <td>4</td>\n",
       "      <td>10101</td>\n",
       "      <td>amazonas</td>\n",
       "    </tr>\n",
       "    <tr>\n",
       "      <th>1</th>\n",
       "      <td>2019</td>\n",
       "      <td>contra el honor</td>\n",
       "      <td>injuria,calumnia y difamacion</td>\n",
       "      <td>1</td>\n",
       "      <td>10101</td>\n",
       "      <td>amazonas</td>\n",
       "    </tr>\n",
       "    <tr>\n",
       "      <th>2</th>\n",
       "      <td>2019</td>\n",
       "      <td>contra el honor</td>\n",
       "      <td>injuria,calumnia y difamacion</td>\n",
       "      <td>2</td>\n",
       "      <td>10101</td>\n",
       "      <td>amazonas</td>\n",
       "    </tr>\n",
       "    <tr>\n",
       "      <th>3</th>\n",
       "      <td>2019</td>\n",
       "      <td>contra el honor</td>\n",
       "      <td>injuria,calumnia y difamacion</td>\n",
       "      <td>14</td>\n",
       "      <td>10101</td>\n",
       "      <td>amazonas</td>\n",
       "    </tr>\n",
       "    <tr>\n",
       "      <th>4</th>\n",
       "      <td>2019</td>\n",
       "      <td>contra el honor</td>\n",
       "      <td>injuria,calumnia y difamacion</td>\n",
       "      <td>1</td>\n",
       "      <td>10101</td>\n",
       "      <td>amazonas</td>\n",
       "    </tr>\n",
       "    <tr>\n",
       "      <th>...</th>\n",
       "      <td>...</td>\n",
       "      <td>...</td>\n",
       "      <td>...</td>\n",
       "      <td>...</td>\n",
       "      <td>...</td>\n",
       "      <td>...</td>\n",
       "    </tr>\n",
       "    <tr>\n",
       "      <th>9026</th>\n",
       "      <td>2023</td>\n",
       "      <td>delitos ambientales</td>\n",
       "      <td>responsabilidad funcional e información falsa</td>\n",
       "      <td>6</td>\n",
       "      <td>250101</td>\n",
       "      <td>ucayali</td>\n",
       "    </tr>\n",
       "    <tr>\n",
       "      <th>9027</th>\n",
       "      <td>2023</td>\n",
       "      <td>delitos tributarios</td>\n",
       "      <td>contrabando</td>\n",
       "      <td>1</td>\n",
       "      <td>250101</td>\n",
       "      <td>ucayali</td>\n",
       "    </tr>\n",
       "    <tr>\n",
       "      <th>9028</th>\n",
       "      <td>2023</td>\n",
       "      <td>contra la voluntad popular</td>\n",
       "      <td>delitos contra el derecho al sufragio</td>\n",
       "      <td>1</td>\n",
       "      <td>250101</td>\n",
       "      <td>ucayali</td>\n",
       "    </tr>\n",
       "    <tr>\n",
       "      <th>9029</th>\n",
       "      <td>2023</td>\n",
       "      <td>contra el patrimonio</td>\n",
       "      <td>delitos informaticos contra el patrimonio</td>\n",
       "      <td>223</td>\n",
       "      <td>250101</td>\n",
       "      <td>ucayali</td>\n",
       "    </tr>\n",
       "    <tr>\n",
       "      <th>9030</th>\n",
       "      <td>2023</td>\n",
       "      <td>contra la fe publica</td>\n",
       "      <td>delitos informaticos contra la fe publica</td>\n",
       "      <td>32</td>\n",
       "      <td>250101</td>\n",
       "      <td>ucayali</td>\n",
       "    </tr>\n",
       "  </tbody>\n",
       "</table>\n",
       "<p>47895 rows × 6 columns</p>\n",
       "</div>"
      ],
      "text/plain": [
       "     anio_denuncia                    generico  \\\n",
       "0             2019             contra el honor   \n",
       "1             2019             contra el honor   \n",
       "2             2019             contra el honor   \n",
       "3             2019             contra el honor   \n",
       "4             2019             contra el honor   \n",
       "...            ...                         ...   \n",
       "9026          2023         delitos ambientales   \n",
       "9027          2023         delitos tributarios   \n",
       "9028          2023  contra la voluntad popular   \n",
       "9029          2023        contra el patrimonio   \n",
       "9030          2023        contra la fe publica   \n",
       "\n",
       "                                            subgenerico cantidad ubigeo_pjfs  \\\n",
       "0     contra el honor (sin especificar delito subgen...        4       10101   \n",
       "1                         injuria,calumnia y difamacion        1       10101   \n",
       "2                         injuria,calumnia y difamacion        2       10101   \n",
       "3                         injuria,calumnia y difamacion       14       10101   \n",
       "4                         injuria,calumnia y difamacion        1       10101   \n",
       "...                                                 ...      ...         ...   \n",
       "9026      responsabilidad funcional e información falsa        6      250101   \n",
       "9027                                        contrabando        1      250101   \n",
       "9028              delitos contra el derecho al sufragio        1      250101   \n",
       "9029          delitos informaticos contra el patrimonio      223      250101   \n",
       "9030          delitos informaticos contra la fe publica       32      250101   \n",
       "\n",
       "     dpto_pjfs  \n",
       "0     amazonas  \n",
       "1     amazonas  \n",
       "2     amazonas  \n",
       "3     amazonas  \n",
       "4     amazonas  \n",
       "...        ...  \n",
       "9026   ucayali  \n",
       "9027   ucayali  \n",
       "9028   ucayali  \n",
       "9029   ucayali  \n",
       "9030   ucayali  \n",
       "\n",
       "[47895 rows x 6 columns]"
      ]
     },
     "execution_count": 36,
     "metadata": {},
     "output_type": "execute_result"
    }
   ],
   "source": [
    "dd    # se le restó 491 de disposicioens comunes, y 58 genericos no tipificados y tentativas"
   ]
  },
  {
   "cell_type": "markdown",
   "metadata": {},
   "source": [
    "# Exportar"
   ]
  },
  {
   "cell_type": "code",
   "execution_count": 37,
   "metadata": {},
   "outputs": [],
   "source": [
    "dd.to_csv(\"delitos_limpio.csv\", index=False)"
   ]
  }
 ],
 "metadata": {
  "kernelspec": {
   "display_name": "endes_env",
   "language": "python",
   "name": "python3"
  },
  "language_info": {
   "codemirror_mode": {
    "name": "ipython",
    "version": 3
   },
   "file_extension": ".py",
   "mimetype": "text/x-python",
   "name": "python",
   "nbconvert_exporter": "python",
   "pygments_lexer": "ipython3",
   "version": "3.11.11"
  }
 },
 "nbformat": 4,
 "nbformat_minor": 2
}
